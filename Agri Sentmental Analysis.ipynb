{
 "cells": [
  {
   "cell_type": "code",
   "execution_count": 1,
   "metadata": {},
   "outputs": [],
   "source": [
    "#from operator import itemgetter\n",
    "from sklearn.metrics.pairwise import cosine_similarity\n",
    "#from bns import BNS"
   ]
  },
  {
   "cell_type": "code",
   "execution_count": 2,
   "metadata": {},
   "outputs": [],
   "source": [
    "import re\n",
    "import nltk\n",
    "import numpy as np\n",
    "from nltk.stem import WordNetLemmatizer\n",
    "from nltk.corpus import stopwords \n",
    "from nltk.stem import PorterStemmer\n",
    "import pandas as pd\n",
    "import random\n",
    "import seaborn as sns\n",
    "from sklearn.preprocessing import LabelEncoder\n",
    "from sklearn.neighbors import KNeighborsClassifier\n",
    "from sklearn.naive_bayes import BernoulliNB\n",
    "from sklearn.model_selection import KFold \n",
    "from sklearn.model_selection import train_test_split\n",
    "from sklearn.metrics import classification_report\n",
    "from sklearn.metrics import accuracy_score,precision_score,recall_score,f1_score\n",
    "from wordcloud import WordCloud\n",
    "from sklearn.svm import SVC\n",
    "from sklearn.metrics import confusion_matrix\n",
    "from sklearn.decomposition import PCA\n",
    "from sklearn.pipeline import make_pipeline\n",
    "from sklearn.feature_extraction.text import CountVectorizer,TfidfTransformer,TfidfVectorizer\n",
    "import matplotlib.pyplot as plt\n",
    "import multiprocessing\n",
    "import time\n",
    "import gensim\n",
    "from gensim import corpora\n",
    "from gensim.corpora.dictionary import Dictionary"
   ]
  },
  {
   "cell_type": "code",
   "execution_count": 3,
   "metadata": {},
   "outputs": [],
   "source": [
    "data=pd.read_excel(\"C:\\\\Users\\\\touQer_abaS\\\\Desktop\\\\Final Dataset for Semantics.xlsx\")\n",
    "#data"
   ]
  },
  {
   "cell_type": "code",
   "execution_count": 4,
   "metadata": {},
   "outputs": [],
   "source": [
    "data_preprocess=data.drop(columns=[\"Sr. No\",\"Name\",\"Designation\",\"Institute\",\"Expertise\"])\n",
    "#data_preprocess"
   ]
  },
  {
   "cell_type": "code",
   "execution_count": 5,
   "metadata": {},
   "outputs": [],
   "source": [
    "def Lemmitzer(sentence):\n",
    "    lemitizer=WordNetLemmatizer()\n",
    "    words=nltk.word_tokenize(sentence)\n",
    "    newword=[lemitizer.lemmatize(word) for word in words]\n",
    "    str_=' '.join(word for word in newword)\n",
    "    return str_"
   ]
  },
  {
   "cell_type": "code",
   "execution_count": 6,
   "metadata": {},
   "outputs": [],
   "source": [
    "def Stemmer(sentence):\n",
    "    stemmer= PorterStemmer()\n",
    "    words=nltk.word_tokenize(sentence)\n",
    "    newword=[stemmer.stem(word) for word in words]\n",
    "    str_=' '.join(word for word in newword)\n",
    "    return str_"
   ]
  },
  {
   "cell_type": "code",
   "execution_count": 7,
   "metadata": {},
   "outputs": [],
   "source": [
    "def tokinize_data(data):\n",
    "    list=[]\n",
    "    filtered_sentence=str()\n",
    "    stop_words = set(stopwords.words('english'))\n",
    "    for sentence in data:\n",
    "        sentence=re.sub(r\"\\W\",\" \",sentence)\n",
    "        sentence=re.sub(r\"\\s+\",\" \",sentence)\n",
    "        sentence=re.sub(r\"\\s[a-zA-Z]\\s+\",\" \",sentence)\n",
    "        sentence=sentence.lower()\n",
    "        sentence=\" \".join([w for w in nltk.word_tokenize(sentence) if w not in stop_words])\n",
    "        filtered_sentence=Lemmitzer(sentence)\n",
    "        list.append(filtered_sentence)\n",
    "    return list"
   ]
  },
  {
   "cell_type": "code",
   "execution_count": 8,
   "metadata": {},
   "outputs": [],
   "source": [
    "dict={}\n",
    "for i in data_preprocess.columns:\n",
    "    dict[i]=tokinize_data(data[i])\n",
    "#dict"
   ]
  },
  {
   "cell_type": "code",
   "execution_count": 9,
   "metadata": {},
   "outputs": [
    {
     "data": {
      "text/html": [
       "<div>\n",
       "<style scoped>\n",
       "    .dataframe tbody tr th:only-of-type {\n",
       "        vertical-align: middle;\n",
       "    }\n",
       "\n",
       "    .dataframe tbody tr th {\n",
       "        vertical-align: top;\n",
       "    }\n",
       "\n",
       "    .dataframe thead th {\n",
       "        text-align: right;\n",
       "    }\n",
       "</style>\n",
       "<table border=\"1\" class=\"dataframe\">\n",
       "  <thead>\n",
       "    <tr style=\"text-align: right;\">\n",
       "      <th></th>\n",
       "      <th>Q1: How does soil health affect crop productivity?</th>\n",
       "      <th>Q2. What are the Impacts of certified and uncertified seed in crop productivity?</th>\n",
       "      <th>Q3. How can insect pest problem be minimized to increase Agriculture Productivity without harming the Environment?</th>\n",
       "      <th>Q4. What are impact of plant disease and insects/pest on Crop Productivity?</th>\n",
       "      <th>Q5. How we can resolve water shortage issues and challenges in Agriculture?</th>\n",
       "      <th>Q6. How does climate change affects agriculture and farmers?</th>\n",
       "      <th>Q7. How can precision agriculture be helpful in improving Agriculture and crop Productivity</th>\n",
       "      <th>Q8. What are pros and cons of synthetic fertilizer in Agriculture sector?</th>\n",
       "      <th>Q9. How we can improve the post-harvest losses of Crops/Fruits/Vegetables?</th>\n",
       "      <th>Q10. How Government policies affect in sustainable Agriculture Growth?</th>\n",
       "    </tr>\n",
       "  </thead>\n",
       "  <tbody>\n",
       "    <tr>\n",
       "      <th>0</th>\n",
       "      <td>soil complex nutriants micro organisim soil bo...</td>\n",
       "      <td>health certified seed ensures high yield un ce...</td>\n",
       "      <td>use biocontrd agent green meauring organnic ma...</td>\n",
       "      <td>plant disease insect serevely damage crop redu...</td>\n",
       "      <td>resolve water shortage issue introducing varit...</td>\n",
       "      <td>climate change affect agriculture various way ...</td>\n",
       "      <td>taimly application input varietal selection cu...</td>\n",
       "      <td>synthectic fertilizer quick action provide nut...</td>\n",
       "      <td>post harvest treatment careful handling</td>\n",
       "      <td>govt policy affect sustainable agriculture gro...</td>\n",
       "    </tr>\n",
       "    <tr>\n",
       "      <th>1</th>\n",
       "      <td>soil health indicate generate good quality foo...</td>\n",
       "      <td>certified seed may genrate good production com...</td>\n",
       "      <td>biological control play significant role incre...</td>\n",
       "      <td>plant disease insect pest negative impact crop...</td>\n",
       "      <td>dam mini dam required soil moisture couservati...</td>\n",
       "      <td>agriculture department climate climate changde...</td>\n",
       "      <td>precision agriculture need day</td>\n",
       "      <td>synthalie fatilizer application best nutriants...</td>\n",
       "      <td>mechinized farming</td>\n",
       "      <td>significant effect</td>\n",
       "    </tr>\n",
       "    <tr>\n",
       "      <th>2</th>\n",
       "      <td>soil medium plant growth soil good water holdi...</td>\n",
       "      <td>certified seed planted crop show uniformity ge...</td>\n",
       "      <td>using natural enemy pest minimized without har...</td>\n",
       "      <td>plant disease onset pest feel damage different...</td>\n",
       "      <td>water shortage issue challenge agriculture reo...</td>\n",
       "      <td>due climate change tempreature increase lifecy...</td>\n",
       "      <td>precision agriculture vary helpful improving a...</td>\n",
       "      <td>main advantage syththetic fertilizer 15 readil...</td>\n",
       "      <td>adopting new method harvesting pest harvest lo...</td>\n",
       "      <td>policy government direct impact sustainable ag...</td>\n",
       "    </tr>\n",
       "    <tr>\n",
       "      <th>3</th>\n",
       "      <td>decrease overall plant growth development ulti...</td>\n",
       "      <td>certified seed pure clean healthy give farmer ...</td>\n",
       "      <td>biological control first beneficial way second...</td>\n",
       "      <td>reduce yield 20 80 depending upon severity</td>\n",
       "      <td>deceloping water depicit drought tolerant geno...</td>\n",
       "      <td>disturbing plout growth flowering pattern seed...</td>\n",
       "      <td>farmer well organized earn profit several reso...</td>\n",
       "      <td>although synthetic fertilizer boot yield resid...</td>\n",
       "      <td>adopting proper storage processing practice</td>\n",
       "      <td>government policy great effect agriculture gro...</td>\n",
       "    </tr>\n",
       "    <tr>\n",
       "      <th>4</th>\n",
       "      <td>poor soil poor yield many disorder cause veget...</td>\n",
       "      <td>certified seed positive impact showing proper ...</td>\n",
       "      <td>attractants refellants used trap biological ha...</td>\n",
       "      <td>damage crop yield reduced cost pro increase qu...</td>\n",
       "      <td>modification crop selection method flooding li...</td>\n",
       "      <td>crop show disorder rduced growth early late ri...</td>\n",
       "      <td>surely play role economical us input right sta...</td>\n",
       "      <td>soil deficient regarding nutrient applied brig...</td>\n",
       "      <td>balanced fertilizer careful handing harvesting...</td>\n",
       "      <td>design proper policy execute properly policy a...</td>\n",
       "    </tr>\n",
       "    <tr>\n",
       "      <th>5</th>\n",
       "      <td>soil health affect crop productivity soil medi...</td>\n",
       "      <td>seed certified uncertified seed poor quality l...</td>\n",
       "      <td>biological control insect may environment frie...</td>\n",
       "      <td>plant disease lower plant health lead stunted ...</td>\n",
       "      <td>manage water shortage efficient utilization ir...</td>\n",
       "      <td>agriculture dependent various climatic factor ...</td>\n",
       "      <td>precision agriculture helpful improving agricu...</td>\n",
       "      <td>synthetic fertilizer play role enhancing produ...</td>\n",
       "      <td>increasing storage condition enhancing shelf l...</td>\n",
       "      <td>cost production different crop increasing day ...</td>\n",
       "    </tr>\n",
       "    <tr>\n",
       "      <th>6</th>\n",
       "      <td>good soil rich plant nutrient helpful increasi...</td>\n",
       "      <td>good quality certified seed true type helpful ...</td>\n",
       "      <td>saving natural enemy insect pest using biologi...</td>\n",
       "      <td>greatly reduced yield affecting growth plant</td>\n",
       "      <td>water conservation using modern irrigation sys...</td>\n",
       "      <td>climate change greatly affect productivity cro...</td>\n",
       "      <td>improve yield providing irrigation fertilizer ...</td>\n",
       "      <td>synthetic fertilizer easy apply immediately av...</td>\n",
       "      <td>improving road easy fast movement harvested cr...</td>\n",
       "      <td>agricultural loaning providing subsidized inpu...</td>\n",
       "    </tr>\n",
       "    <tr>\n",
       "      <th>7</th>\n",
       "      <td>soil play vital role crop productivity obvious...</td>\n",
       "      <td>soil play vital role crop productivity obvious...</td>\n",
       "      <td>farmer use certified authentic seed certified ...</td>\n",
       "      <td>yes day agriculture system mainly dependent sy...</td>\n",
       "      <td>water one crucial factor crop sure ignorable b...</td>\n",
       "      <td>influence climate change agriculture well farm...</td>\n",
       "      <td>precision agriculture important adopting farme...</td>\n",
       "      <td>synthetic form good healthy agriculture simila...</td>\n",
       "      <td>post harvest loss minimized using latest techn...</td>\n",
       "      <td>government always play vital role making imple...</td>\n",
       "    </tr>\n",
       "    <tr>\n",
       "      <th>8</th>\n",
       "      <td>soil ph soil physical condition soil fertility...</td>\n",
       "      <td>certified seed better uncertified seed certifi...</td>\n",
       "      <td>adopting ipm programme problem minimized possi...</td>\n",
       "      <td>insect reduce quality produce decrease yield c...</td>\n",
       "      <td>wise use irrigation water laser land levelling...</td>\n",
       "      <td>climate change affecting agriculture badly sow...</td>\n",
       "      <td>precision agriculture helpful many way main is...</td>\n",
       "      <td>95 soil deficient nitrogen almost 60 soil defi...</td>\n",
       "      <td>import post harvest loss crop meachanization p...</td>\n",
       "      <td>rated farmer marketing main issue farmer marke...</td>\n",
       "    </tr>\n",
       "    <tr>\n",
       "      <th>9</th>\n",
       "      <td>crop need nutrition maintaing productivity soi...</td>\n",
       "      <td>cerified seed high quality uncertified properl...</td>\n",
       "      <td>well safe guard environmental also control uns...</td>\n",
       "      <td>insect pest suck plant juice especially leaf c...</td>\n",
       "      <td>reduce water wastage household nationl level c...</td>\n",
       "      <td>tempreature rainfall disturbance affect certai...</td>\n",
       "      <td>well ensure evenly distribution water fertlize...</td>\n",
       "      <td>pors available eassy apply improve soil produc...</td>\n",
       "      <td>mechanical harvesting proper storage measure c...</td>\n",
       "      <td>govt srt tragets provide support acieve missin...</td>\n",
       "    </tr>\n",
       "    <tr>\n",
       "      <th>10</th>\n",
       "      <td>soil health play vital role crop productivity ...</td>\n",
       "      <td>certified seed belongs authorized well reputed...</td>\n",
       "      <td>insect pest problem crop minimized timely sowi...</td>\n",
       "      <td>pest disease destroy plant immune system bioti...</td>\n",
       "      <td>climate change significant impact agriculture ...</td>\n",
       "      <td>increase temperature change precipitation patt...</td>\n",
       "      <td>precision agriculture new technology potential...</td>\n",
       "      <td>synthetic fertilizer provide rapid nutrition p...</td>\n",
       "      <td>post harvest loss crop fruit vegetable minimiz...</td>\n",
       "      <td>agricultural operation sustainably managed pre...</td>\n",
       "    </tr>\n",
       "    <tr>\n",
       "      <th>11</th>\n",
       "      <td>soil health affeect crop productivity soil bas...</td>\n",
       "      <td>major difference certified uncertified seed se...</td>\n",
       "      <td>big problem insect pest affecting productivity...</td>\n",
       "      <td>insect cause infestation plant also major case...</td>\n",
       "      <td>first wateris important component human also p...</td>\n",
       "      <td>major issue climate farmer aware problem due c...</td>\n",
       "      <td>agriculture us input nutrient pesticide seed w...</td>\n",
       "      <td>substance added soil increase thesis nutrient ...</td>\n",
       "      <td>improve post harvest loss fruit vegetable pluc...</td>\n",
       "      <td>government policy affect sustainable growth ag...</td>\n",
       "    </tr>\n",
       "    <tr>\n",
       "      <th>12</th>\n",
       "      <td>soil basic natural medium supposed support pla...</td>\n",
       "      <td>impact certified seed seed good quality establ...</td>\n",
       "      <td>achieved adopting integrated pest management d...</td>\n",
       "      <td>plant disease reduces production quality food ...</td>\n",
       "      <td>introducing variety high water use efficiency ...</td>\n",
       "      <td>climate change disrupt food availability reduc...</td>\n",
       "      <td>precision agriculture management practice sign...</td>\n",
       "      <td>pro fast acting formula ensures specific ratio...</td>\n",
       "      <td>also wide range post harvest technology adopte...</td>\n",
       "      <td>sustainable agriculture must meet economic soc...</td>\n",
       "    </tr>\n",
       "    <tr>\n",
       "      <th>13</th>\n",
       "      <td>soil health affect crop productivity following...</td>\n",
       "      <td>certified seed result good crop productivity 1...</td>\n",
       "      <td>promoting adopting biological control insect p...</td>\n",
       "      <td>decrease crop production result poor quality p...</td>\n",
       "      <td>construction new large small dam developing us...</td>\n",
       "      <td>reduction crop yield 2 promoting soil degradat...</td>\n",
       "      <td>minimizing loss seed fertilizer fuel time prec...</td>\n",
       "      <td>improve soil fertility improve crop production...</td>\n",
       "      <td>promoting packaging processing industry develo...</td>\n",
       "      <td>controlling market price produce ensuring supp...</td>\n",
       "    </tr>\n",
       "    <tr>\n",
       "      <th>14</th>\n",
       "      <td>crop productivity directly related soil health...</td>\n",
       "      <td>cerified seed germination 100 along proper cro...</td>\n",
       "      <td>minimize insect problem help ipm integrated pe...</td>\n",
       "      <td>insect pest damage leaf fruit plant ultimately...</td>\n",
       "      <td>day water shortage major problem agriculture s...</td>\n",
       "      <td>climate change shifted growing season changed ...</td>\n",
       "      <td>precise agriculture grow high yielding variety...</td>\n",
       "      <td>synthetic fertilizer agriculture sector major ...</td>\n",
       "      <td>post harvest loss reduced proper handling prod...</td>\n",
       "      <td>government policy definitely affect farm produ...</td>\n",
       "    </tr>\n",
       "    <tr>\n",
       "      <th>15</th>\n",
       "      <td>soil heath directly effect crop productivity b...</td>\n",
       "      <td>certified seed requirement crop production qua...</td>\n",
       "      <td>without hariming enviornment insect pest resis...</td>\n",
       "      <td>plant disease insect pest reduced 50 crop prod...</td>\n",
       "      <td>growing short duration low water denanding cro...</td>\n",
       "      <td>climate change dicecting effect farmer agricul...</td>\n",
       "      <td>precision agriculture need today increase crop...</td>\n",
       "      <td>synthetic fertilizer destroy enviornmental mak...</td>\n",
       "      <td>post harvest loss reduced providing awareness ...</td>\n",
       "      <td>government policy made without giving attentio...</td>\n",
       "    </tr>\n",
       "    <tr>\n",
       "      <th>16</th>\n",
       "      <td>good soil health lead good crop productivity p...</td>\n",
       "      <td>certified seed good quality tested high germin...</td>\n",
       "      <td>use biological method improve crop productivit...</td>\n",
       "      <td>plant disease insect pest ultimate lead low cr...</td>\n",
       "      <td>develop ideotype plant need low water content ...</td>\n",
       "      <td>climate shift affect croping pattern ultimate ...</td>\n",
       "      <td>advance technique agriculture lead high cop pr...</td>\n",
       "      <td>harmfull chemical substance like heavy metal a...</td>\n",
       "      <td>improving storage condition able minimize post...</td>\n",
       "      <td>policy improve functioning financial market fa...</td>\n",
       "    </tr>\n",
       "    <tr>\n",
       "      <th>17</th>\n",
       "      <td>soil health complex parameter play important r...</td>\n",
       "      <td>certified seed give uniform reliable productio...</td>\n",
       "      <td>using integrating insect management</td>\n",
       "      <td>loss yield sometime disaster crop</td>\n",
       "      <td>using high efficiency irrigation system crop s...</td>\n",
       "      <td>many way e crop calendar changing introduction...</td>\n",
       "      <td>need hour</td>\n",
       "      <td>use fertilizer agricultural benefit plant feed...</td>\n",
       "      <td>processing food sorting grading improving pack...</td>\n",
       "      <td>agriculture policy consistent however progress...</td>\n",
       "    </tr>\n",
       "    <tr>\n",
       "      <th>18</th>\n",
       "      <td>soil medium grow crop primary importance crop ...</td>\n",
       "      <td>certified seed ensure high germination percent...</td>\n",
       "      <td>biological control method controlling inset pe...</td>\n",
       "      <td>plant disease insect pest adverse effect crop ...</td>\n",
       "      <td>water shortage issue may addressed 1 growing c...</td>\n",
       "      <td>climate change modifies environment crop grown...</td>\n",
       "      <td>precision agriculture help utilizing different...</td>\n",
       "      <td>doubt synthetic fertilizer provide nutrient ne...</td>\n",
       "      <td>post harvest loss minimized 1 harvesting crop ...</td>\n",
       "      <td>sustainable agricultural growth ensured 1 crop...</td>\n",
       "    </tr>\n",
       "    <tr>\n",
       "      <th>19</th>\n",
       "      <td>nutrition availability plant root penetration ...</td>\n",
       "      <td>certified seed seed gemination proper maintain...</td>\n",
       "      <td>integrated pest management ipm use natural pre...</td>\n",
       "      <td>plant disease insect damage crop reduces produ...</td>\n",
       "      <td>use water use efficient crop agriculture droug...</td>\n",
       "      <td>climate change affect agriculture high temprea...</td>\n",
       "      <td>compilc analyze crop data real time help bette...</td>\n",
       "      <td>pors soil structure sustainable fertilizer env...</td>\n",
       "      <td>main resource plant harvest loss due poor prod...</td>\n",
       "      <td>government police main cause agriculture failu...</td>\n",
       "    </tr>\n",
       "    <tr>\n",
       "      <th>20</th>\n",
       "      <td>effect plant immunity whih turn effect pt atta...</td>\n",
       "      <td>certified seed necessary good crop uncertified...</td>\n",
       "      <td>purpose shift towards resistant varients cultu...</td>\n",
       "      <td>insect pest disease effort crop yield eating c...</td>\n",
       "      <td>adopting novel teachniques agriculture like dr...</td>\n",
       "      <td>climate change effective crop havening rain st...</td>\n",
       "      <td>percision agriculture good wise helpful improv...</td>\n",
       "      <td>fertilizer improved yield crop time thesis che...</td>\n",
       "      <td>taking novel method picking meachnized farminf...</td>\n",
       "      <td>direct effect agriculture productivity farmer ...</td>\n",
       "    </tr>\n",
       "    <tr>\n",
       "      <th>21</th>\n",
       "      <td>nutritious chemical available plant soil soil ...</td>\n",
       "      <td>certified seed produced strict seed certificat...</td>\n",
       "      <td>integrating possible measure manage insect pes...</td>\n",
       "      <td>plant disease insect pest reduce 50 yield loss...</td>\n",
       "      <td>farmer use irrigate water wisely precisely fol...</td>\n",
       "      <td>changing climate agriculture affected badly ul...</td>\n",
       "      <td>precision agriculture us information technolog...</td>\n",
       "      <td>access everything bad true use synthetic ferti...</td>\n",
       "      <td>adopting modern improved harvesting handling s...</td>\n",
       "      <td>era mass production surplus agriculture produc...</td>\n",
       "    </tr>\n",
       "    <tr>\n",
       "      <th>22</th>\n",
       "      <td>soil heath significant affect crop yield soil ...</td>\n",
       "      <td>one important aspect deciding crop productivit...</td>\n",
       "      <td>producing insect resistant variety like bt cot...</td>\n",
       "      <td>crop production quality effect insect pest att...</td>\n",
       "      <td>managing proper utilisation water saving water...</td>\n",
       "      <td>climate threaten agriculture different way cha...</td>\n",
       "      <td>precision agriculture harvest per unit produce...</td>\n",
       "      <td>fertilizer boost yield crop significant impact...</td>\n",
       "      <td>properly harvesting fruit without causing dama...</td>\n",
       "      <td>govt policy highly influence agriculture growt...</td>\n",
       "    </tr>\n",
       "    <tr>\n",
       "      <th>23</th>\n",
       "      <td>soil health effect crop productivity different...</td>\n",
       "      <td>certified seed high genetic purity high germin...</td>\n",
       "      <td>keep soil healthy healthy soil produce stronge...</td>\n",
       "      <td>agriculture struggle support rapidly growing g...</td>\n",
       "      <td>water scarcity huge impact food production wit...</td>\n",
       "      <td>climate change disrupt food availability reduc...</td>\n",
       "      <td>technology help farmer decide plant harvest cr...</td>\n",
       "      <td>pro synthetic fertilizer fast acting formula e...</td>\n",
       "      <td>crop loss minimized physically avoiding entry ...</td>\n",
       "      <td>intervention agricultural policy important phe...</td>\n",
       "    </tr>\n",
       "    <tr>\n",
       "      <th>24</th>\n",
       "      <td>crop productivity directly related soil health</td>\n",
       "      <td>seed certification business however good quali...</td>\n",
       "      <td>possible state owned land</td>\n",
       "      <td>directly reduced crop productivity</td>\n",
       "      <td>using regulated deficit irrigation practice</td>\n",
       "      <td>agriculture depends climate</td>\n",
       "      <td>precision agriculture possible pakistan due sm...</td>\n",
       "      <td>reduced crop failure pollute environment</td>\n",
       "      <td>returning graduate agriculture business</td>\n",
       "      <td>government policy agriculture</td>\n",
       "    </tr>\n",
       "    <tr>\n",
       "      <th>25</th>\n",
       "      <td>healthy soil increase capacity crop withstand ...</td>\n",
       "      <td>clean seed varietal purity guaranteed quality ...</td>\n",
       "      <td>introduction new high yielding variety hybrid ...</td>\n",
       "      <td>food insecurity poor quality production econom...</td>\n",
       "      <td>high efficiency irrigation system 1 drip irrig...</td>\n",
       "      <td>flood drought degraded soil change crop livest...</td>\n",
       "      <td>precision agriculture us input nutrient pestic...</td>\n",
       "      <td>inexpensive quick time availability plant inex...</td>\n",
       "      <td>proper postharvest handling harvesting proper ...</td>\n",
       "      <td>government policy farming government policy de...</td>\n",
       "    </tr>\n",
       "    <tr>\n",
       "      <th>26</th>\n",
       "      <td>soil health influence growth development healt...</td>\n",
       "      <td>certified seed give better yield quality envir...</td>\n",
       "      <td>implementation integrated pest management ipm ...</td>\n",
       "      <td>insect disease influence seed nursery health g...</td>\n",
       "      <td>addressed le water requiring variety applying ...</td>\n",
       "      <td>climate change brings challenge opportunity to...</td>\n",
       "      <td>precision agricultural practice lead towards e...</td>\n",
       "      <td>use synthetic fertilizer lead towards degradat...</td>\n",
       "      <td>better preharvest management harvesting optima...</td>\n",
       "      <td>government policy massive effect agricultural ...</td>\n",
       "    </tr>\n",
       "    <tr>\n",
       "      <th>27</th>\n",
       "      <td>plant growth development health defense system...</td>\n",
       "      <td>certified seed high quality seed improved germ...</td>\n",
       "      <td>integrated pest management</td>\n",
       "      <td>disease insect pest attack weaken plant result...</td>\n",
       "      <td>improving crop water use efficiency using high...</td>\n",
       "      <td>dversely impacting agriculture form new pest p...</td>\n",
       "      <td>precision agriculture would decrease cost prod...</td>\n",
       "      <td>deteriorate environment increase yield absence...</td>\n",
       "      <td>proper storage implementing post harvest manag...</td>\n",
       "      <td>policy fourth pillar crop productivity profita...</td>\n",
       "    </tr>\n",
       "    <tr>\n",
       "      <th>28</th>\n",
       "      <td>plant growth productivity largely depends soil...</td>\n",
       "      <td>certified seed released commercial use complet...</td>\n",
       "      <td>development transgenic crop resistant biotic s...</td>\n",
       "      <td>major impact disease disease insect pest crop ...</td>\n",
       "      <td>employing suitable management practice improve...</td>\n",
       "      <td>crop productivity largely depends soil health ...</td>\n",
       "      <td>reslove atleast reduce major issue especially ...</td>\n",
       "      <td>continously excessive use syntheti fertilizer ...</td>\n",
       "      <td>proper procesing storage harvesting spreading ...</td>\n",
       "      <td>government policy need revised implemented ans...</td>\n",
       "    </tr>\n",
       "    <tr>\n",
       "      <th>29</th>\n",
       "      <td>soil health effect influence distribution nutr...</td>\n",
       "      <td>uncertified seed lead towards poor growth poor...</td>\n",
       "      <td>developing new teachnology laser drone one equ...</td>\n",
       "      <td>defiantly poor production</td>\n",
       "      <td>adopting water safety protocol many water trea...</td>\n",
       "      <td>time sowing harvesting farmer facing sever adv...</td>\n",
       "      <td>effectively</td>\n",
       "      <td>idea</td>\n",
       "      <td>adopting post harvest measure field home paved...</td>\n",
       "      <td>monitoring regulating authority actually black...</td>\n",
       "    </tr>\n",
       "    <tr>\n",
       "      <th>30</th>\n",
       "      <td>soil medium provides nutrient water growth dev...</td>\n",
       "      <td>uncertified seed affect crop productivity numb...</td>\n",
       "      <td>crop protection cost environmental always wise...</td>\n",
       "      <td>plant disease pest affecting crop productivity...</td>\n",
       "      <td>done water conservation teachnique ii improvin...</td>\n",
       "      <td>climate change global warimg expected weather ...</td>\n",
       "      <td>precision agriculture provide advantage minimi...</td>\n",
       "      <td>synthetic fertilizer provide necessary nutrien...</td>\n",
       "      <td>post harvest loss may decreased proper storage...</td>\n",
       "      <td>ensuring produce price may sustain area produc...</td>\n",
       "    </tr>\n",
       "    <tr>\n",
       "      <th>31</th>\n",
       "      <td>healthy soil increase soil water infitration s...</td>\n",
       "      <td>certified seed ensures specified germination p...</td>\n",
       "      <td>possible enhancing natural control mechaisms g...</td>\n",
       "      <td>crop loss due pest disease major threat unione...</td>\n",
       "      <td>controlled population growth dam built governm...</td>\n",
       "      <td>climate change acting brake need yield grow me...</td>\n",
       "      <td>precision agriculture enhance sustainability p...</td>\n",
       "      <td>synthetic fertolizer deliver nutrient unifroml...</td>\n",
       "      <td>good harvesting maximize crop yield minimize c...</td>\n",
       "      <td>reliaze agriculture growth target necessary si...</td>\n",
       "    </tr>\n",
       "    <tr>\n",
       "      <th>32</th>\n",
       "      <td>soil reponsible providing nutrient plant growt...</td>\n",
       "      <td>certified need purity true type better germina...</td>\n",
       "      <td>ipm biological control measure natural ecosyst...</td>\n",
       "      <td>controlled timely properly crop harvest decrea...</td>\n",
       "      <td>instead flodd irrigation use new method irriga...</td>\n",
       "      <td>climate change rain pattern change minimum max...</td>\n",
       "      <td>idea</td>\n",
       "      <td>synthetic fertilizer incrase yield used large ...</td>\n",
       "      <td>post harvest losses decreased using new techno...</td>\n",
       "      <td>govt poloicies set groung rule economic peofit...</td>\n",
       "    </tr>\n",
       "    <tr>\n",
       "      <th>33</th>\n",
       "      <td>soil basic unit crop production healthy soil d...</td>\n",
       "      <td>certifiec seed key increase crop production re...</td>\n",
       "      <td>integrated pest management biological control ...</td>\n",
       "      <td>due plant disease insect pest attack crop prod...</td>\n",
       "      <td>mainly overcome water shortage issue dam must ...</td>\n",
       "      <td>climate change real challenge agriculture farm...</td>\n",
       "      <td>consulting precesion agriculture according for...</td>\n",
       "      <td>synthetic fertilizer good tool increasing yiel...</td>\n",
       "      <td>good management loss may minimized</td>\n",
       "      <td>government policy play role success implementa...</td>\n",
       "    </tr>\n",
       "    <tr>\n",
       "      <th>34</th>\n",
       "      <td>soil inherient source nutrition croos plant so...</td>\n",
       "      <td>certified seed play key role production unifor...</td>\n",
       "      <td>insect pest problem minized interducing insect...</td>\n",
       "      <td>plant disease insect pest negetive impact crop...</td>\n",
       "      <td>resolve water short issue precision irrigation...</td>\n",
       "      <td>climate one important factor agriculture day i...</td>\n",
       "      <td>precision agriculture helpful improving produc...</td>\n",
       "      <td>synthetic fertlizer ply key role agriculture s...</td>\n",
       "      <td>post harvest losses improve interducing meachn...</td>\n",
       "      <td>government provide systematic way input used a...</td>\n",
       "    </tr>\n",
       "    <tr>\n",
       "      <th>35</th>\n",
       "      <td>soil rasic medium growth development crop nutr...</td>\n",
       "      <td>certifiecd seed guarantee standard set seed se...</td>\n",
       "      <td>crop diversity</td>\n",
       "      <td>organism result multiple damage crop reduces y...</td>\n",
       "      <td>weather conversation construction dream imopro...</td>\n",
       "      <td>climate change result unfavourable environment...</td>\n",
       "      <td>precision agriculture lasicaly improves input ...</td>\n",
       "      <td>sunthetic fertilizer impotant resource short t...</td>\n",
       "      <td>proper time harvesting food processing preserv...</td>\n",
       "      <td>government policy affect sustainable agricultu...</td>\n",
       "    </tr>\n",
       "    <tr>\n",
       "      <th>36</th>\n",
       "      <td>soil health include combination physical chemi...</td>\n",
       "      <td>use certified seed improved varities crop prod...</td>\n",
       "      <td>organic farming using natural predator pest in...</td>\n",
       "      <td>plant disease reduces production crop 42 1 may...</td>\n",
       "      <td>overcome water shoratge issue agriculture diff...</td>\n",
       "      <td>global warming afects agriculture crop product...</td>\n",
       "      <td>precision agriculture farmer soil work better ...</td>\n",
       "      <td>pro fast activity formula ensure specific rati...</td>\n",
       "      <td>ass maturity like pick crop appropriate stage ...</td>\n",
       "      <td>agriculture subsidy paid famous government hel...</td>\n",
       "    </tr>\n",
       "    <tr>\n",
       "      <th>37</th>\n",
       "      <td>good soil health increase productivity</td>\n",
       "      <td>certified seed significantly positive impact c...</td>\n",
       "      <td>using best agricultural practice</td>\n",
       "      <td>certainly would negative impact crop productivity</td>\n",
       "      <td>water productivity need increase using high ef...</td>\n",
       "      <td>cc affecting agriculture adversely ultimately ...</td>\n",
       "      <td>precision agriculture important reducing cost ...</td>\n",
       "      <td>feeding population 220 million need production...</td>\n",
       "      <td>adopting value addition technology</td>\n",
       "      <td>government policy could play important role ag...</td>\n",
       "    </tr>\n",
       "  </tbody>\n",
       "</table>\n",
       "</div>"
      ],
      "text/plain": [
       "   Q1: How does soil health affect crop productivity?  \\\n",
       "0   soil complex nutriants micro organisim soil bo...   \n",
       "1   soil health indicate generate good quality foo...   \n",
       "2   soil medium plant growth soil good water holdi...   \n",
       "3   decrease overall plant growth development ulti...   \n",
       "4   poor soil poor yield many disorder cause veget...   \n",
       "5   soil health affect crop productivity soil medi...   \n",
       "6   good soil rich plant nutrient helpful increasi...   \n",
       "7   soil play vital role crop productivity obvious...   \n",
       "8   soil ph soil physical condition soil fertility...   \n",
       "9   crop need nutrition maintaing productivity soi...   \n",
       "10  soil health play vital role crop productivity ...   \n",
       "11  soil health affeect crop productivity soil bas...   \n",
       "12  soil basic natural medium supposed support pla...   \n",
       "13  soil health affect crop productivity following...   \n",
       "14  crop productivity directly related soil health...   \n",
       "15  soil heath directly effect crop productivity b...   \n",
       "16  good soil health lead good crop productivity p...   \n",
       "17  soil health complex parameter play important r...   \n",
       "18  soil medium grow crop primary importance crop ...   \n",
       "19  nutrition availability plant root penetration ...   \n",
       "20  effect plant immunity whih turn effect pt atta...   \n",
       "21  nutritious chemical available plant soil soil ...   \n",
       "22  soil heath significant affect crop yield soil ...   \n",
       "23  soil health effect crop productivity different...   \n",
       "24     crop productivity directly related soil health   \n",
       "25  healthy soil increase capacity crop withstand ...   \n",
       "26  soil health influence growth development healt...   \n",
       "27  plant growth development health defense system...   \n",
       "28  plant growth productivity largely depends soil...   \n",
       "29  soil health effect influence distribution nutr...   \n",
       "30  soil medium provides nutrient water growth dev...   \n",
       "31  healthy soil increase soil water infitration s...   \n",
       "32  soil reponsible providing nutrient plant growt...   \n",
       "33  soil basic unit crop production healthy soil d...   \n",
       "34  soil inherient source nutrition croos plant so...   \n",
       "35  soil rasic medium growth development crop nutr...   \n",
       "36  soil health include combination physical chemi...   \n",
       "37             good soil health increase productivity   \n",
       "\n",
       "   Q2. What are the Impacts of certified and uncertified seed in crop productivity?  \\\n",
       "0   health certified seed ensures high yield un ce...                                 \n",
       "1   certified seed may genrate good production com...                                 \n",
       "2   certified seed planted crop show uniformity ge...                                 \n",
       "3   certified seed pure clean healthy give farmer ...                                 \n",
       "4   certified seed positive impact showing proper ...                                 \n",
       "5   seed certified uncertified seed poor quality l...                                 \n",
       "6   good quality certified seed true type helpful ...                                 \n",
       "7   soil play vital role crop productivity obvious...                                 \n",
       "8   certified seed better uncertified seed certifi...                                 \n",
       "9   cerified seed high quality uncertified properl...                                 \n",
       "10  certified seed belongs authorized well reputed...                                 \n",
       "11  major difference certified uncertified seed se...                                 \n",
       "12  impact certified seed seed good quality establ...                                 \n",
       "13  certified seed result good crop productivity 1...                                 \n",
       "14  cerified seed germination 100 along proper cro...                                 \n",
       "15  certified seed requirement crop production qua...                                 \n",
       "16  certified seed good quality tested high germin...                                 \n",
       "17  certified seed give uniform reliable productio...                                 \n",
       "18  certified seed ensure high germination percent...                                 \n",
       "19  certified seed seed gemination proper maintain...                                 \n",
       "20  certified seed necessary good crop uncertified...                                 \n",
       "21  certified seed produced strict seed certificat...                                 \n",
       "22  one important aspect deciding crop productivit...                                 \n",
       "23  certified seed high genetic purity high germin...                                 \n",
       "24  seed certification business however good quali...                                 \n",
       "25  clean seed varietal purity guaranteed quality ...                                 \n",
       "26  certified seed give better yield quality envir...                                 \n",
       "27  certified seed high quality seed improved germ...                                 \n",
       "28  certified seed released commercial use complet...                                 \n",
       "29  uncertified seed lead towards poor growth poor...                                 \n",
       "30  uncertified seed affect crop productivity numb...                                 \n",
       "31  certified seed ensures specified germination p...                                 \n",
       "32  certified need purity true type better germina...                                 \n",
       "33  certifiec seed key increase crop production re...                                 \n",
       "34  certified seed play key role production unifor...                                 \n",
       "35  certifiecd seed guarantee standard set seed se...                                 \n",
       "36  use certified seed improved varities crop prod...                                 \n",
       "37  certified seed significantly positive impact c...                                 \n",
       "\n",
       "   Q3. How can insect pest problem be minimized to increase Agriculture Productivity without harming the Environment?   \\\n",
       "0   use biocontrd agent green meauring organnic ma...                                                                    \n",
       "1   biological control play significant role incre...                                                                    \n",
       "2   using natural enemy pest minimized without har...                                                                    \n",
       "3   biological control first beneficial way second...                                                                    \n",
       "4   attractants refellants used trap biological ha...                                                                    \n",
       "5   biological control insect may environment frie...                                                                    \n",
       "6   saving natural enemy insect pest using biologi...                                                                    \n",
       "7   farmer use certified authentic seed certified ...                                                                    \n",
       "8   adopting ipm programme problem minimized possi...                                                                    \n",
       "9   well safe guard environmental also control uns...                                                                    \n",
       "10  insect pest problem crop minimized timely sowi...                                                                    \n",
       "11  big problem insect pest affecting productivity...                                                                    \n",
       "12  achieved adopting integrated pest management d...                                                                    \n",
       "13  promoting adopting biological control insect p...                                                                    \n",
       "14  minimize insect problem help ipm integrated pe...                                                                    \n",
       "15  without hariming enviornment insect pest resis...                                                                    \n",
       "16  use biological method improve crop productivit...                                                                    \n",
       "17                using integrating insect management                                                                    \n",
       "18  biological control method controlling inset pe...                                                                    \n",
       "19  integrated pest management ipm use natural pre...                                                                    \n",
       "20  purpose shift towards resistant varients cultu...                                                                    \n",
       "21  integrating possible measure manage insect pes...                                                                    \n",
       "22  producing insect resistant variety like bt cot...                                                                    \n",
       "23  keep soil healthy healthy soil produce stronge...                                                                    \n",
       "24                          possible state owned land                                                                    \n",
       "25  introduction new high yielding variety hybrid ...                                                                    \n",
       "26  implementation integrated pest management ipm ...                                                                    \n",
       "27                         integrated pest management                                                                    \n",
       "28  development transgenic crop resistant biotic s...                                                                    \n",
       "29  developing new teachnology laser drone one equ...                                                                    \n",
       "30  crop protection cost environmental always wise...                                                                    \n",
       "31  possible enhancing natural control mechaisms g...                                                                    \n",
       "32  ipm biological control measure natural ecosyst...                                                                    \n",
       "33  integrated pest management biological control ...                                                                    \n",
       "34  insect pest problem minized interducing insect...                                                                    \n",
       "35                                     crop diversity                                                                    \n",
       "36  organic farming using natural predator pest in...                                                                    \n",
       "37                   using best agricultural practice                                                                    \n",
       "\n",
       "   Q4. What are impact of plant disease and insects/pest on Crop Productivity?    \\\n",
       "0   plant disease insect serevely damage crop redu...                              \n",
       "1   plant disease insect pest negative impact crop...                              \n",
       "2   plant disease onset pest feel damage different...                              \n",
       "3          reduce yield 20 80 depending upon severity                              \n",
       "4   damage crop yield reduced cost pro increase qu...                              \n",
       "5   plant disease lower plant health lead stunted ...                              \n",
       "6        greatly reduced yield affecting growth plant                              \n",
       "7   yes day agriculture system mainly dependent sy...                              \n",
       "8   insect reduce quality produce decrease yield c...                              \n",
       "9   insect pest suck plant juice especially leaf c...                              \n",
       "10  pest disease destroy plant immune system bioti...                              \n",
       "11  insect cause infestation plant also major case...                              \n",
       "12  plant disease reduces production quality food ...                              \n",
       "13  decrease crop production result poor quality p...                              \n",
       "14  insect pest damage leaf fruit plant ultimately...                              \n",
       "15  plant disease insect pest reduced 50 crop prod...                              \n",
       "16  plant disease insect pest ultimate lead low cr...                              \n",
       "17                  loss yield sometime disaster crop                              \n",
       "18  plant disease insect pest adverse effect crop ...                              \n",
       "19  plant disease insect damage crop reduces produ...                              \n",
       "20  insect pest disease effort crop yield eating c...                              \n",
       "21  plant disease insect pest reduce 50 yield loss...                              \n",
       "22  crop production quality effect insect pest att...                              \n",
       "23  agriculture struggle support rapidly growing g...                              \n",
       "24                 directly reduced crop productivity                              \n",
       "25  food insecurity poor quality production econom...                              \n",
       "26  insect disease influence seed nursery health g...                              \n",
       "27  disease insect pest attack weaken plant result...                              \n",
       "28  major impact disease disease insect pest crop ...                              \n",
       "29                          defiantly poor production                              \n",
       "30  plant disease pest affecting crop productivity...                              \n",
       "31  crop loss due pest disease major threat unione...                              \n",
       "32  controlled timely properly crop harvest decrea...                              \n",
       "33  due plant disease insect pest attack crop prod...                              \n",
       "34  plant disease insect pest negetive impact crop...                              \n",
       "35  organism result multiple damage crop reduces y...                              \n",
       "36  plant disease reduces production crop 42 1 may...                              \n",
       "37  certainly would negative impact crop productivity                              \n",
       "\n",
       "   Q5. How we can resolve water shortage issues and challenges in Agriculture?  \\\n",
       "0   resolve water shortage issue introducing varit...                            \n",
       "1   dam mini dam required soil moisture couservati...                            \n",
       "2   water shortage issue challenge agriculture reo...                            \n",
       "3   deceloping water depicit drought tolerant geno...                            \n",
       "4   modification crop selection method flooding li...                            \n",
       "5   manage water shortage efficient utilization ir...                            \n",
       "6   water conservation using modern irrigation sys...                            \n",
       "7   water one crucial factor crop sure ignorable b...                            \n",
       "8   wise use irrigation water laser land levelling...                            \n",
       "9   reduce water wastage household nationl level c...                            \n",
       "10  climate change significant impact agriculture ...                            \n",
       "11  first wateris important component human also p...                            \n",
       "12  introducing variety high water use efficiency ...                            \n",
       "13  construction new large small dam developing us...                            \n",
       "14  day water shortage major problem agriculture s...                            \n",
       "15  growing short duration low water denanding cro...                            \n",
       "16  develop ideotype plant need low water content ...                            \n",
       "17  using high efficiency irrigation system crop s...                            \n",
       "18  water shortage issue may addressed 1 growing c...                            \n",
       "19  use water use efficient crop agriculture droug...                            \n",
       "20  adopting novel teachniques agriculture like dr...                            \n",
       "21  farmer use irrigate water wisely precisely fol...                            \n",
       "22  managing proper utilisation water saving water...                            \n",
       "23  water scarcity huge impact food production wit...                            \n",
       "24        using regulated deficit irrigation practice                            \n",
       "25  high efficiency irrigation system 1 drip irrig...                            \n",
       "26  addressed le water requiring variety applying ...                            \n",
       "27  improving crop water use efficiency using high...                            \n",
       "28  employing suitable management practice improve...                            \n",
       "29  adopting water safety protocol many water trea...                            \n",
       "30  done water conservation teachnique ii improvin...                            \n",
       "31  controlled population growth dam built governm...                            \n",
       "32  instead flodd irrigation use new method irriga...                            \n",
       "33  mainly overcome water shortage issue dam must ...                            \n",
       "34  resolve water short issue precision irrigation...                            \n",
       "35  weather conversation construction dream imopro...                            \n",
       "36  overcome water shoratge issue agriculture diff...                            \n",
       "37  water productivity need increase using high ef...                            \n",
       "\n",
       "   Q6. How does climate change affects agriculture and farmers?  \\\n",
       "0   climate change affect agriculture various way ...             \n",
       "1   agriculture department climate climate changde...             \n",
       "2   due climate change tempreature increase lifecy...             \n",
       "3   disturbing plout growth flowering pattern seed...             \n",
       "4   crop show disorder rduced growth early late ri...             \n",
       "5   agriculture dependent various climatic factor ...             \n",
       "6   climate change greatly affect productivity cro...             \n",
       "7   influence climate change agriculture well farm...             \n",
       "8   climate change affecting agriculture badly sow...             \n",
       "9   tempreature rainfall disturbance affect certai...             \n",
       "10  increase temperature change precipitation patt...             \n",
       "11  major issue climate farmer aware problem due c...             \n",
       "12  climate change disrupt food availability reduc...             \n",
       "13  reduction crop yield 2 promoting soil degradat...             \n",
       "14  climate change shifted growing season changed ...             \n",
       "15  climate change dicecting effect farmer agricul...             \n",
       "16  climate shift affect croping pattern ultimate ...             \n",
       "17  many way e crop calendar changing introduction...             \n",
       "18  climate change modifies environment crop grown...             \n",
       "19  climate change affect agriculture high temprea...             \n",
       "20  climate change effective crop havening rain st...             \n",
       "21  changing climate agriculture affected badly ul...             \n",
       "22  climate threaten agriculture different way cha...             \n",
       "23  climate change disrupt food availability reduc...             \n",
       "24                        agriculture depends climate             \n",
       "25  flood drought degraded soil change crop livest...             \n",
       "26  climate change brings challenge opportunity to...             \n",
       "27  dversely impacting agriculture form new pest p...             \n",
       "28  crop productivity largely depends soil health ...             \n",
       "29  time sowing harvesting farmer facing sever adv...             \n",
       "30  climate change global warimg expected weather ...             \n",
       "31  climate change acting brake need yield grow me...             \n",
       "32  climate change rain pattern change minimum max...             \n",
       "33  climate change real challenge agriculture farm...             \n",
       "34  climate one important factor agriculture day i...             \n",
       "35  climate change result unfavourable environment...             \n",
       "36  global warming afects agriculture crop product...             \n",
       "37  cc affecting agriculture adversely ultimately ...             \n",
       "\n",
       "   Q7. How can precision agriculture be helpful in improving Agriculture and crop Productivity   \\\n",
       "0   taimly application input varietal selection cu...                                             \n",
       "1                      precision agriculture need day                                             \n",
       "2   precision agriculture vary helpful improving a...                                             \n",
       "3   farmer well organized earn profit several reso...                                             \n",
       "4   surely play role economical us input right sta...                                             \n",
       "5   precision agriculture helpful improving agricu...                                             \n",
       "6   improve yield providing irrigation fertilizer ...                                             \n",
       "7   precision agriculture important adopting farme...                                             \n",
       "8   precision agriculture helpful many way main is...                                             \n",
       "9   well ensure evenly distribution water fertlize...                                             \n",
       "10  precision agriculture new technology potential...                                             \n",
       "11  agriculture us input nutrient pesticide seed w...                                             \n",
       "12  precision agriculture management practice sign...                                             \n",
       "13  minimizing loss seed fertilizer fuel time prec...                                             \n",
       "14  precise agriculture grow high yielding variety...                                             \n",
       "15  precision agriculture need today increase crop...                                             \n",
       "16  advance technique agriculture lead high cop pr...                                             \n",
       "17                                          need hour                                             \n",
       "18  precision agriculture help utilizing different...                                             \n",
       "19  compilc analyze crop data real time help bette...                                             \n",
       "20  percision agriculture good wise helpful improv...                                             \n",
       "21  precision agriculture us information technolog...                                             \n",
       "22  precision agriculture harvest per unit produce...                                             \n",
       "23  technology help farmer decide plant harvest cr...                                             \n",
       "24  precision agriculture possible pakistan due sm...                                             \n",
       "25  precision agriculture us input nutrient pestic...                                             \n",
       "26  precision agricultural practice lead towards e...                                             \n",
       "27  precision agriculture would decrease cost prod...                                             \n",
       "28  reslove atleast reduce major issue especially ...                                             \n",
       "29                                        effectively                                             \n",
       "30  precision agriculture provide advantage minimi...                                             \n",
       "31  precision agriculture enhance sustainability p...                                             \n",
       "32                                               idea                                             \n",
       "33  consulting precesion agriculture according for...                                             \n",
       "34  precision agriculture helpful improving produc...                                             \n",
       "35  precision agriculture lasicaly improves input ...                                             \n",
       "36  precision agriculture farmer soil work better ...                                             \n",
       "37  precision agriculture important reducing cost ...                                             \n",
       "\n",
       "   Q8. What are pros and cons of synthetic fertilizer in Agriculture sector?  \\\n",
       "0   synthectic fertilizer quick action provide nut...                          \n",
       "1   synthalie fatilizer application best nutriants...                          \n",
       "2   main advantage syththetic fertilizer 15 readil...                          \n",
       "3   although synthetic fertilizer boot yield resid...                          \n",
       "4   soil deficient regarding nutrient applied brig...                          \n",
       "5   synthetic fertilizer play role enhancing produ...                          \n",
       "6   synthetic fertilizer easy apply immediately av...                          \n",
       "7   synthetic form good healthy agriculture simila...                          \n",
       "8   95 soil deficient nitrogen almost 60 soil defi...                          \n",
       "9   pors available eassy apply improve soil produc...                          \n",
       "10  synthetic fertilizer provide rapid nutrition p...                          \n",
       "11  substance added soil increase thesis nutrient ...                          \n",
       "12  pro fast acting formula ensures specific ratio...                          \n",
       "13  improve soil fertility improve crop production...                          \n",
       "14  synthetic fertilizer agriculture sector major ...                          \n",
       "15  synthetic fertilizer destroy enviornmental mak...                          \n",
       "16  harmfull chemical substance like heavy metal a...                          \n",
       "17  use fertilizer agricultural benefit plant feed...                          \n",
       "18  doubt synthetic fertilizer provide nutrient ne...                          \n",
       "19  pors soil structure sustainable fertilizer env...                          \n",
       "20  fertilizer improved yield crop time thesis che...                          \n",
       "21  access everything bad true use synthetic ferti...                          \n",
       "22  fertilizer boost yield crop significant impact...                          \n",
       "23  pro synthetic fertilizer fast acting formula e...                          \n",
       "24           reduced crop failure pollute environment                          \n",
       "25  inexpensive quick time availability plant inex...                          \n",
       "26  use synthetic fertilizer lead towards degradat...                          \n",
       "27  deteriorate environment increase yield absence...                          \n",
       "28  continously excessive use syntheti fertilizer ...                          \n",
       "29                                               idea                          \n",
       "30  synthetic fertilizer provide necessary nutrien...                          \n",
       "31  synthetic fertolizer deliver nutrient unifroml...                          \n",
       "32  synthetic fertilizer incrase yield used large ...                          \n",
       "33  synthetic fertilizer good tool increasing yiel...                          \n",
       "34  synthetic fertlizer ply key role agriculture s...                          \n",
       "35  sunthetic fertilizer impotant resource short t...                          \n",
       "36  pro fast activity formula ensure specific rati...                          \n",
       "37  feeding population 220 million need production...                          \n",
       "\n",
       "   Q9. How we can improve the post-harvest losses of Crops/Fruits/Vegetables?  \\\n",
       "0             post harvest treatment careful handling                           \n",
       "1                                  mechinized farming                           \n",
       "2   adopting new method harvesting pest harvest lo...                           \n",
       "3         adopting proper storage processing practice                           \n",
       "4   balanced fertilizer careful handing harvesting...                           \n",
       "5   increasing storage condition enhancing shelf l...                           \n",
       "6   improving road easy fast movement harvested cr...                           \n",
       "7   post harvest loss minimized using latest techn...                           \n",
       "8   import post harvest loss crop meachanization p...                           \n",
       "9   mechanical harvesting proper storage measure c...                           \n",
       "10  post harvest loss crop fruit vegetable minimiz...                           \n",
       "11  improve post harvest loss fruit vegetable pluc...                           \n",
       "12  also wide range post harvest technology adopte...                           \n",
       "13  promoting packaging processing industry develo...                           \n",
       "14  post harvest loss reduced proper handling prod...                           \n",
       "15  post harvest loss reduced providing awareness ...                           \n",
       "16  improving storage condition able minimize post...                           \n",
       "17  processing food sorting grading improving pack...                           \n",
       "18  post harvest loss minimized 1 harvesting crop ...                           \n",
       "19  main resource plant harvest loss due poor prod...                           \n",
       "20  taking novel method picking meachnized farminf...                           \n",
       "21  adopting modern improved harvesting handling s...                           \n",
       "22  properly harvesting fruit without causing dama...                           \n",
       "23  crop loss minimized physically avoiding entry ...                           \n",
       "24            returning graduate agriculture business                           \n",
       "25  proper postharvest handling harvesting proper ...                           \n",
       "26  better preharvest management harvesting optima...                           \n",
       "27  proper storage implementing post harvest manag...                           \n",
       "28  proper procesing storage harvesting spreading ...                           \n",
       "29  adopting post harvest measure field home paved...                           \n",
       "30  post harvest loss may decreased proper storage...                           \n",
       "31  good harvesting maximize crop yield minimize c...                           \n",
       "32  post harvest losses decreased using new techno...                           \n",
       "33                 good management loss may minimized                           \n",
       "34  post harvest losses improve interducing meachn...                           \n",
       "35  proper time harvesting food processing preserv...                           \n",
       "36  ass maturity like pick crop appropriate stage ...                           \n",
       "37                 adopting value addition technology                           \n",
       "\n",
       "   Q10. How Government policies affect in sustainable Agriculture Growth?  \n",
       "0   govt policy affect sustainable agriculture gro...                      \n",
       "1                                  significant effect                      \n",
       "2   policy government direct impact sustainable ag...                      \n",
       "3   government policy great effect agriculture gro...                      \n",
       "4   design proper policy execute properly policy a...                      \n",
       "5   cost production different crop increasing day ...                      \n",
       "6   agricultural loaning providing subsidized inpu...                      \n",
       "7   government always play vital role making imple...                      \n",
       "8   rated farmer marketing main issue farmer marke...                      \n",
       "9   govt srt tragets provide support acieve missin...                      \n",
       "10  agricultural operation sustainably managed pre...                      \n",
       "11  government policy affect sustainable growth ag...                      \n",
       "12  sustainable agriculture must meet economic soc...                      \n",
       "13  controlling market price produce ensuring supp...                      \n",
       "14  government policy definitely affect farm produ...                      \n",
       "15  government policy made without giving attentio...                      \n",
       "16  policy improve functioning financial market fa...                      \n",
       "17  agriculture policy consistent however progress...                      \n",
       "18  sustainable agricultural growth ensured 1 crop...                      \n",
       "19  government police main cause agriculture failu...                      \n",
       "20  direct effect agriculture productivity farmer ...                      \n",
       "21  era mass production surplus agriculture produc...                      \n",
       "22  govt policy highly influence agriculture growt...                      \n",
       "23  intervention agricultural policy important phe...                      \n",
       "24                      government policy agriculture                      \n",
       "25  government policy farming government policy de...                      \n",
       "26  government policy massive effect agricultural ...                      \n",
       "27  policy fourth pillar crop productivity profita...                      \n",
       "28  government policy need revised implemented ans...                      \n",
       "29  monitoring regulating authority actually black...                      \n",
       "30  ensuring produce price may sustain area produc...                      \n",
       "31  reliaze agriculture growth target necessary si...                      \n",
       "32  govt poloicies set groung rule economic peofit...                      \n",
       "33  government policy play role success implementa...                      \n",
       "34  government provide systematic way input used a...                      \n",
       "35  government policy affect sustainable agricultu...                      \n",
       "36  agriculture subsidy paid famous government hel...                      \n",
       "37  government policy could play important role ag...                      "
      ]
     },
     "execution_count": 9,
     "metadata": {},
     "output_type": "execute_result"
    }
   ],
   "source": [
    "new_data = pd.DataFrame(dict)\n",
    "new_data"
   ]
  },
  {
   "cell_type": "code",
   "execution_count": 10,
   "metadata": {},
   "outputs": [],
   "source": [
    "context_size = 7\n",
    "num_workers = multiprocessing.cpu_count()\n",
    "min_word_count = 1\n",
    "num_features = 300\n",
    "seed = 1\n",
    "word2vec_model = gensim.models.word2vec.Word2Vec(\n",
    "    sg=1,\n",
    "    seed=seed,\n",
    "    workers=num_workers, \n",
    "    size=num_features, \n",
    "    min_count=min_word_count, \n",
    "    window=context_size)"
   ]
  },
  {
   "cell_type": "code",
   "execution_count": 11,
   "metadata": {},
   "outputs": [],
   "source": [
    "trainData=[]\n",
    "for k,v in dict.items():\n",
    "    for j in v:\n",
    "        trainData.append(nltk.word_tokenize(j))\n",
    "        #trainData_.append(j)"
   ]
  },
  {
   "cell_type": "code",
   "execution_count": 12,
   "metadata": {},
   "outputs": [
    {
     "name": "stdout",
     "output_type": "stream",
     "text": [
      "The vocabulary is built\n",
      "Word2Vec vocabulary length:  2127\n"
     ]
    }
   ],
   "source": [
    "word2vec_model.build_vocab(sentences=trainData)\n",
    "print(\"The vocabulary is built\")\n",
    "print(\"Word2Vec vocabulary length: \",len(word2vec_model.wv.vocab))"
   ]
  },
  {
   "cell_type": "code",
   "execution_count": 13,
   "metadata": {},
   "outputs": [
    {
     "name": "stderr",
     "output_type": "stream",
     "text": [
      "C:\\Users\\touQer_abaS\\Anaconda3\\lib\\site-packages\\ipykernel_launcher.py:1: DeprecationWarning: Call to deprecated `__getitem__` (Method will be removed in 4.0.0, use self.wv.__getitem__() instead).\n",
      "  \"\"\"Entry point for launching an IPython kernel.\n"
     ]
    }
   ],
   "source": [
    "X=word2vec_model[word2vec_model.wv.vocab]"
   ]
  },
  {
   "cell_type": "code",
   "execution_count": null,
   "metadata": {},
   "outputs": [],
   "source": []
  },
  {
   "cell_type": "code",
   "execution_count": 14,
   "metadata": {},
   "outputs": [
    {
     "data": {
      "image/png": "[encoded data removed]",
      "text/plain": [
       "<Figure size 432x288 with 1 Axes>"
      ]
     },
     "metadata": {
      "needs_background": "light"
     },
     "output_type": "display_data"
    }
   ],
   "source": [
    "pca = PCA(n_components=2)\n",
    "result = pca.fit_transform(X)\n",
    "# create a scatter plot of the projection\n",
    "plt.scatter(result[:, 0], result[:, 1])\n",
    "#words = word2vec_model.wv.vocab.keys()\n",
    "#for i, word in enumerate(words):\n",
    "#    plt.annotate(word, xy=(result[i, 0], result[i, 1]))\n",
    "plt.show()"
   ]
  },
  {
   "cell_type": "code",
   "execution_count": 15,
   "metadata": {},
   "outputs": [
    {
     "data": {
      "text/plain": [
       "[('location', 0.20369262993335724),\n",
       " ('known', 0.16534394025802612),\n",
       " ('management', 0.16180355846881866),\n",
       " ('similiarly', 0.16084903478622437),\n",
       " ('targrt', 0.15576815605163574),\n",
       " ('doubt', 0.1529415398836136),\n",
       " ('total', 0.15017300844192505),\n",
       " ('viroid', 0.14601074159145355),\n",
       " ('third', 0.14585426449775696),\n",
       " ('certification', 0.14422012865543365)]"
      ]
     },
     "execution_count": 15,
     "metadata": {},
     "output_type": "execute_result"
    }
   ],
   "source": [
    "word2vec_model.wv.most_similar(\"climate\")"
   ]
  },
  {
   "cell_type": "code",
   "execution_count": 16,
   "metadata": {},
   "outputs": [],
   "source": [
    "compileddoc=dict\n"
   ]
  },
  {
   "cell_type": "code",
   "execution_count": 17,
   "metadata": {
    "scrolled": false
   },
   "outputs": [],
   "source": [
    "finaldoc={}\n",
    "for k,v in compileddoc.items():\n",
    "    list=str\n",
    "    list=\" \".join([i for i in v])\n",
    "    final_doc=[w for w in nltk.word_tokenize(list)]\n",
    "    finaldoc[k]=final_doc"
   ]
  },
  {
   "cell_type": "code",
   "execution_count": 18,
   "metadata": {},
   "outputs": [],
   "source": [
    "dictionary = corpora.Dictionary(finaldoc.values())\n",
    "#dictionary.token2id"
   ]
  },
  {
   "cell_type": "code",
   "execution_count": 19,
   "metadata": {},
   "outputs": [],
   "source": [
    "DT_matrix = [dictionary.doc2bow(doc) for doc in finaldoc.values()]\n"
   ]
  },
  {
   "cell_type": "code",
   "execution_count": 20,
   "metadata": {},
   "outputs": [],
   "source": [
    "Lda_object = gensim.models.ldamodel.LdaModel"
   ]
  },
  {
   "cell_type": "code",
   "execution_count": 21,
   "metadata": {},
   "outputs": [],
   "source": [
    "lda_model_1 = Lda_object(DT_matrix, num_topics=10, id2word = dictionary)"
   ]
  },
  {
   "cell_type": "code",
   "execution_count": 22,
   "metadata": {},
   "outputs": [
    {
     "data": {
      "text/plain": [
       "[(0,\n",
       "  '0.021*\"crop\" + 0.011*\"water\" + 0.010*\"agriculture\" + 0.010*\"loss\" + 0.010*\"storage\"'),\n",
       " (1,\n",
       "  '0.050*\"water\" + 0.023*\"crop\" + 0.015*\"irrigation\" + 0.012*\"agriculture\" + 0.011*\"use\"'),\n",
       " (2,\n",
       "  '0.039*\"crop\" + 0.016*\"soil\" + 0.014*\"seed\" + 0.013*\"plant\" + 0.011*\"pest\"'),\n",
       " (3,\n",
       "  '0.041*\"crop\" + 0.026*\"soil\" + 0.025*\"seed\" + 0.021*\"plant\" + 0.014*\"disease\"'),\n",
       " (4,\n",
       "  '0.022*\"crop\" + 0.020*\"seed\" + 0.019*\"soil\" + 0.015*\"plant\" + 0.011*\"agriculture\"'),\n",
       " (5,\n",
       "  '0.026*\"crop\" + 0.022*\"agriculture\" + 0.012*\"plant\" + 0.011*\"production\" + 0.010*\"policy\"'),\n",
       " (6,\n",
       "  '0.033*\"crop\" + 0.026*\"soil\" + 0.018*\"seed\" + 0.013*\"plant\" + 0.012*\"productivity\"'),\n",
       " (7,\n",
       "  '0.017*\"crop\" + 0.014*\"agriculture\" + 0.012*\"plant\" + 0.012*\"water\" + 0.009*\"use\"'),\n",
       " (8,\n",
       "  '0.024*\"water\" + 0.023*\"crop\" + 0.020*\"soil\" + 0.014*\"plant\" + 0.012*\"insect\"'),\n",
       " (9,\n",
       "  '0.026*\"water\" + 0.025*\"crop\" + 0.017*\"soil\" + 0.017*\"agriculture\" + 0.011*\"irrigation\"')]"
      ]
     },
     "execution_count": 22,
     "metadata": {},
     "output_type": "execute_result"
    }
   ],
   "source": [
    "lda_model_1.print_topics(num_topics=10, num_words=5)"
   ]
  },
  {
   "cell_type": "raw",
   "metadata": {},
   "source": [
    "tf_idf=gensim.models.TfidfModel(DT_matrix)\n",
    "for doc in tf_idf[DT_matrix]:\n",
    "    #print(doc)\n",
    "    print([[dictionary[id],np.around(freq,decimals=2)] for id, freq in doc])"
   ]
  },
  {
   "cell_type": "code",
   "execution_count": 23,
   "metadata": {},
   "outputs": [],
   "source": [
    "def get_top_n_words(corpus,ngram_rang,n=None):\n",
    "    vec = CountVectorizer(max_features=2000,ngram_range=ngram_rang).fit(corpus)\n",
    "    bag_of_words = vec.transform(corpus)\n",
    "    sum_words = bag_of_words.sum(axis=0)\n",
    "    words_freq = [(word, sum_words[0, idx]) for word, idx in      \n",
    "                   vec.vocabulary_.items()]\n",
    "    words_freq =sorted(words_freq, key = lambda x: x[1], \n",
    "                       reverse=True)\n",
    "    return words_freq[:n]"
   ]
  },
  {
   "cell_type": "code",
   "execution_count": 24,
   "metadata": {},
   "outputs": [],
   "source": [
    "def graph(topdf):\n",
    "    sns.set(rc={'figure.figsize':(13,8)})\n",
    "    g = sns.barplot(x=\"Word\", y=\"Freq\",data=top_df,color=\"green\")\n",
    "    g.set_xticklabels(g.get_xticklabels(),rotation=45)\n",
    "    \n",
    "    for i,v in enumerate(top_df[\"Freq\"]):\n",
    "        g.text(i,v,round(v,2))\n",
    "    #fig=g.get_figure()\n",
    "    #fig.savefig(\"output.png\")"
   ]
  },
  {
   "cell_type": "code",
   "execution_count": 25,
   "metadata": {},
   "outputs": [],
   "source": [
    "#data_=\" \".join([i for i in ])\n",
    "corpus=[]\n",
    "for i in compileddoc.values():\n",
    "    data_=str()\n",
    "    data_=\" \".join([j for j in i])\n",
    "    corpus.append(data_)"
   ]
  },
  {
   "cell_type": "code",
   "execution_count": 53,
   "metadata": {},
   "outputs": [],
   "source": []
  },
  {
   "cell_type": "code",
   "execution_count": 117,
   "metadata": {},
   "outputs": [
    {
     "data": {
      "image/png": "[encoded data removed]",
      "text/plain": [
       "<Figure size 936x576 with 1 Axes>"
      ]
     },
     "metadata": {},
     "output_type": "display_data"
    }
   ],
   "source": [
    "top_words = get_top_n_words(corpus,(1,1), n=20)\n",
    "words_dict={}\n",
    "word=[]\n",
    "freq=[]\n",
    "for i in top_words:\n",
    "    word.append(i[0])\n",
    "    freq.append(i[1])\n",
    "words_dict[\"Word UG\"]=word\n",
    "words_dict[\"freq UG\"]=freq\n",
    "#pd_data=pd.DataFrame.from_dict(words_dict,orient='index')\n",
    "top_df = pd.DataFrame(top_words,columns=[\"Word\", \"Freq\"])\n",
    "graph(top_df)"
   ]
  },
  {
   "cell_type": "code",
   "execution_count": 118,
   "metadata": {},
   "outputs": [
    {
     "data": {
      "image/png": "[encoded data removed]",
      "text/plain": [
       "<Figure size 936x576 with 1 Axes>"
      ]
     },
     "metadata": {},
     "output_type": "display_data"
    }
   ],
   "source": [
    "top_words = get_top_n_words(corpus,(2,2), n=20)\n",
    "word=[]\n",
    "freq=[]\n",
    "for i in top_words:\n",
    "    word.append(i[0])\n",
    "    freq.append(i[1])\n",
    "words_dict[\"Word BG\"]=word\n",
    "words_dict[\"freq BG\"]=freq\n",
    "top_df = pd.DataFrame(top_words,columns=[\"Word\", \"Freq\"])\n",
    "\n",
    "graph(top_df)"
   ]
  },
  {
   "cell_type": "code",
   "execution_count": 119,
   "metadata": {},
   "outputs": [
    {
     "data": {
      "image/png": "[encoded data removed]",
      "text/plain": [
       "<Figure size 936x576 with 1 Axes>"
      ]
     },
     "metadata": {},
     "output_type": "display_data"
    }
   ],
   "source": [
    "top_words = get_top_n_words(corpus,(3,3), n=20)\n",
    "word=[]\n",
    "freq=[]\n",
    "for i in top_words:\n",
    "    word.append(i[0])\n",
    "    freq.append(i[1])\n",
    "words_dict[\"Word TG\"]=word\n",
    "words_dict[\"freq TG\"]=freq\n",
    "#pd_data=pd_data.join(from_dict(words_dict,orient='index')\n",
    "top_df = pd.DataFrame(top_words,columns=[\"Word\", \"Freq\"])\n",
    "graph(top_df)"
   ]
  },
  {
   "cell_type": "code",
   "execution_count": 125,
   "metadata": {},
   "outputs": [],
   "source": [
    "pd_data=pd.DataFrame.from_dict(words_dict)\n",
    "#d_data.transpose()"
   ]
  },
  {
   "cell_type": "code",
   "execution_count": 126,
   "metadata": {},
   "outputs": [],
   "source": [
    "pd_data.to_excel(r\"C:\\\\Users\\\\touQer_abaS\\\\Desktop\\\\AgriTop20WordFreq.xlsx\")"
   ]
  },
  {
   "cell_type": "code",
   "execution_count": 29,
   "metadata": {},
   "outputs": [],
   "source": [
    "cv=CountVectorizer(max_df=0.8, max_features=100, ngram_range=(1,1))\n",
    "X=cv.fit_transform(corpus)"
   ]
  },
  {
   "cell_type": "code",
   "execution_count": 30,
   "metadata": {},
   "outputs": [
    {
     "data": {
      "text/plain": [
       "array([[ 0,  9,  1,  0,  7,  7,  4, 11,  2,  0,  1,  6,  0,  0,  0,  0,\n",
       "         1,  5,  2,  0,  9,  0,  3,  0,  0,  0,  0,  0,  2,  0,  3,  1,\n",
       "        17,  0,  0,  0, 30, 13,  1,  2,  1,  4,  0,  1,  1,  1,  0,  1,\n",
       "         1,  1,  4,  2,  3,  0,  0, 11,  0,  1,  0, 30, 10,  0,  0,  0,\n",
       "         7,  0,  8,  0,  0,  2,  0,  0,  1,  0,  0,  2,  1,  1,  2,  0,\n",
       "         3,  8,  2,  0,  1,  6,  0,  0,  3,  0,  0,  1,  1,  5,  0,  0,\n",
       "         0,  0,  3,  3]], dtype=int64)"
      ]
     },
     "execution_count": 30,
     "metadata": {},
     "output_type": "execute_result"
    }
   ],
   "source": [
    "X[0].toarray()"
   ]
  },
  {
   "cell_type": "code",
   "execution_count": 31,
   "metadata": {},
   "outputs": [
    {
     "data": {
      "text/plain": [
       "TfidfTransformer(norm='l2', smooth_idf=True, sublinear_tf=False, use_idf=True)"
      ]
     },
     "execution_count": 31,
     "metadata": {},
     "output_type": "execute_result"
    }
   ],
   "source": [
    "tfidf_transformer=TfidfTransformer(smooth_idf=True,use_idf=True)\n",
    "tfidf_transformer.fit(X)"
   ]
  },
  {
   "cell_type": "code",
   "execution_count": 32,
   "metadata": {},
   "outputs": [],
   "source": [
    "feature_names=cv.get_feature_names()"
   ]
  },
  {
   "cell_type": "code",
   "execution_count": 33,
   "metadata": {},
   "outputs": [
    {
     "name": "stdout",
     "output_type": "stream",
     "text": [
      "Enter Doc no.5\n"
     ]
    }
   ],
   "source": [
    "inpt=int(input(\"Enter Doc no.\"))\n",
    "doc=corpus[inpt-1]"
   ]
  },
  {
   "cell_type": "code",
   "execution_count": 34,
   "metadata": {},
   "outputs": [],
   "source": [
    "tf_idf_vector=tfidf_transformer.transform(cv.transform([doc]))"
   ]
  },
  {
   "cell_type": "code",
   "execution_count": 35,
   "metadata": {},
   "outputs": [
    {
     "name": "stdout",
     "output_type": "stream",
     "text": [
      "\n",
      "Doc: 5\n",
      "resolve water shortage issue introducing varity crop low water requirement dam mini dam required soil moisture couservation practice shuld followed like mulching organic matter addation water shortage issue challenge agriculture reolve efficient use water deep poughing using mulch water conseque using drip sprinkle irrigation problem reduced deceloping water depicit drought tolerant genotype varities water use efficiently modification crop selection method flooding like dailp etc bcol ridge planting manage water shortage efficient utilization irrigation water using high efficiency irrigation system developing low water demanding variety various crop water conservation using modern irrigation system evolving drought tolerant variety different crop water one crucial factor crop sure ignorable based current scenario world facing water shortage issue crop production really effecting overcome minimize issue need focus loss water due various reason need use sprinkler field irrigation greatly reduce water shortage problem water reach target site efficiently moreover need focus water channel need strong enough well constructed much water loss water channel wise use irrigation water laser land levelling modern method irrigation like bed method sprinklen drip irrggation method basin method also improving soil organic matter managing farm accoding water available sowing normal crop le demanging crop manage water reduce water wastage household nationl level constructing dam save water rather dumping sea water harversting solution climate change significant impact agriculture increasing water demand limiting crop productivity reducing water availability area irrigation needed comparative advantage water shortage resolved construction dam lining water channel sowing low water demanding stress tolerant crop drip irrigation improved irrigation method first wateris important component human also plant resolve water storage issue storing rain water prefer drip irrigation system also reuse water case make proper path way water channles aroid loss water introducing variety high water use efficiency introducing high tech equipment gadget irrigation better monitoring saving water harvesting rain water preserving fresh water making farm water storage small dam construction new large small dam developing using water use efficient crop shifting farm onto high efficiency irrigation system water accounting monitoring using water saving technology use mulch minimizing conveyance loss water using soil water conservation technique harvesting rainwater treatment wastewater agriculture use day water shortage major problem agriculture solve water shortage problem using drought tolerant variety drought condition use silicone fertilizer potassium foliar minimize drought effect plant efficient irrigation technology adopted growth le water new water reservoir developed growing short duration low water denanding crop agriculture issue solved develop ideotype plant need low water content develop modern irrigation system use efficient water like drip irrigation using high efficiency irrigation system crop selection use le water mulching water shortage issue may addressed 1 growing crop minimum water requirement water saver rather water spending crop 2 developing crop variety grow well water shortage environment 3 implication agronomic practice field operation improve water holding capacity soil reduce evaporation field 4 using high efficiency irrigation system sprinkler irrigation drip irrigation floppy irrigation discouraging flooding field use water use efficient crop agriculture drought tolerant variety crop selection according water availability g pulse chickpea early sowing escape water spell shortage spell use succulent deset plant adopting novel teachniques agriculture like drip oponianal irrigation farmer use irrigate water wisely precisely following point consideration sow crop le water requirement drought resistant variety use mulch leveling field irrigation consulting weather date etc moreover high efficiency irrigation system like sprinkler bubbler drip irrigation system used feasible managing proper utilisation water saving water making cemented water channel sprinkler irrigation practice breeding new variety better capacity tolerate drought stress gave bumper yield water scarcity huge impact food production without water people mean watering crop therefore provide food fast growing population one method resolving water shortage issue water management rainfed agriculture rainfed agriculture common method agriculture developing nation 80 land farmed around world rainfed contributes 58 global food basket technique water management rainfed agriculture include use supplemental irrigation water harvesting technique rain catchment system weir sand dam technique help provide much needed water area rainfall inconsistent water help increase number quality crop grown issue also resolved build water collection system weir sand dam water collection system provide clean water people everyday need used simple irrigation actually benefit crop production raising ground water level water collected stored drinking rest seeps ground creates fertile field using regulated deficit irrigation practice high efficiency irrigation system 1 drip irrigation system 2 sprinkler irrigation system addressed le water requiring variety applying high efficiency irrigation system organic mulching moisture sensing need based irrigation etc improving crop water use efficiency using highly efficient irrigation system improving water holding capacity soil employing suitable management practice improve water use efficiency adopting water safety protocol many water treatment tech oxidation thermo physical technique right balance use water also prevent water loss done water conservation teachnique ii improving conveyance water use efficiently iii lower levelling field even distribution water iv crop cover lower evaparation losses using low dalta water crop drought toloerance cultivas vi lining canal water channel controlled population growth dam built government tend organize water sector activity g irrigation oversees water supply sanitationhydropower activity transporation understand water cycle including rainfall distribution ecosystem interation natural environment land use charge waste water use instead flodd irrigation use new method irrigatiion drip itrrigatiion produce yield le water mainly overcome water shortage issue dam must constructed moreover cemented water channel also helpful resolve water short issue precision irrigation sytem reducing irrigation loss 50 water used plant weather conversation construction dream imoproving well efficient irrigation system overcome water shoratge issue agriculture different irrigation method used save water many irrigation system deep irrigation deep irrigation foliar application water used may varities high water use effeciceing used save water drought area water productivity need increase using high efficiency irrigation technique challenge agriculture could addressed adopting appropriate input output related police\n",
      "\n",
      "Keywords:\n",
      "irrigation 0.75\n",
      "shortage 0.31\n",
      "system 0.237\n",
      "drought 0.209\n",
      "efficiency 0.204\n",
      "using 0.174\n",
      "issue 0.164\n",
      "method 0.151\n",
      "high 0.137\n",
      "variety 0.123\n"
     ]
    }
   ],
   "source": [
    "from scipy.sparse import coo_matrix\n",
    "def sort_coo(coo_matrix):\n",
    "    tuples = zip(coo_matrix.col, coo_matrix.data)\n",
    "    return sorted(tuples, key=lambda x: (x[1], x[0]), reverse=True)\n",
    " \n",
    "def extract_topn_from_vector(feature_names, sorted_items, topn=10):\n",
    "    \"\"\"get the feature names and tf-idf score of top n items\"\"\"\n",
    "    \n",
    "    #use only topn items from vector\n",
    "    sorted_items = sorted_items[:topn]\n",
    " \n",
    "    score_vals = []\n",
    "    feature_vals = []\n",
    "    \n",
    "    # word index and corresponding tf-idf score\n",
    "    for idx, score in sorted_items:\n",
    "        \n",
    "        #keep track of feature name and its corresponding score\n",
    "        score_vals.append(round(score, 3))\n",
    "        feature_vals.append(feature_names[idx])\n",
    " \n",
    "    #create a tuples of feature,score\n",
    "    #results = zip(feature_vals,score_vals)\n",
    "    results= {}\n",
    "    for idx in range(len(feature_vals)):\n",
    "        results[feature_vals[idx]]=score_vals[idx]\n",
    "    \n",
    "    return results\n",
    "#sort the tf-idf vectors by descending order of scores\n",
    "sorted_items=sort_coo(tf_idf_vector.tocoo())\n",
    "#extract only the top n; n here is 10\n",
    "keywords=extract_topn_from_vector(feature_names,sorted_items,10)\n",
    " \n",
    "# now print the results\n",
    "print(\"\\nDoc: {}\".format(inpt))\n",
    "print(doc)\n",
    "print(\"\\nKeywords:\")\n",
    "for k in keywords:\n",
    "    print(k,keywords[k])"
   ]
  },
  {
   "cell_type": "code",
   "execution_count": 36,
   "metadata": {},
   "outputs": [],
   "source": [
    "datasetLabeling={}\n",
    "reviews=[]\n",
    "label=[]\n",
    "labels_=[\"nutrient\",\"seed\",\"pest\",\"disease\",\"irrigation\",\"climate\",\"precision\",\"fertilizer\",\"harvest\",\"policy\"]\n",
    "for i,l in zip(compileddoc.values(),labels_):\n",
    "    for j in i:\n",
    "        reviews.append(j)\n",
    "        label.append(l)"
   ]
  },
  {
   "cell_type": "code",
   "execution_count": 37,
   "metadata": {},
   "outputs": [],
   "source": [
    "datasetLabeling[\"Data\"]=reviews\n",
    "datasetLabeling[\"Label\"]=label"
   ]
  },
  {
   "cell_type": "code",
   "execution_count": 38,
   "metadata": {},
   "outputs": [],
   "source": [
    "Labeled_data=pd.DataFrame(datasetLabeling)"
   ]
  },
  {
   "cell_type": "code",
   "execution_count": 39,
   "metadata": {},
   "outputs": [
    {
     "data": {
      "text/html": [
       "<div>\n",
       "<style scoped>\n",
       "    .dataframe tbody tr th:only-of-type {\n",
       "        vertical-align: middle;\n",
       "    }\n",
       "\n",
       "    .dataframe tbody tr th {\n",
       "        vertical-align: top;\n",
       "    }\n",
       "\n",
       "    .dataframe thead th {\n",
       "        text-align: right;\n",
       "    }\n",
       "</style>\n",
       "<table border=\"1\" class=\"dataframe\">\n",
       "  <thead>\n",
       "    <tr style=\"text-align: right;\">\n",
       "      <th></th>\n",
       "      <th>Data</th>\n",
       "      <th>Label</th>\n",
       "    </tr>\n",
       "  </thead>\n",
       "  <tbody>\n",
       "    <tr>\n",
       "      <th>0</th>\n",
       "      <td>soil complex nutriants micro organisim soil bo...</td>\n",
       "      <td>nutrient</td>\n",
       "    </tr>\n",
       "    <tr>\n",
       "      <th>1</th>\n",
       "      <td>soil health indicate generate good quality foo...</td>\n",
       "      <td>nutrient</td>\n",
       "    </tr>\n",
       "    <tr>\n",
       "      <th>2</th>\n",
       "      <td>soil medium plant growth soil good water holdi...</td>\n",
       "      <td>nutrient</td>\n",
       "    </tr>\n",
       "    <tr>\n",
       "      <th>3</th>\n",
       "      <td>decrease overall plant growth development ulti...</td>\n",
       "      <td>nutrient</td>\n",
       "    </tr>\n",
       "    <tr>\n",
       "      <th>4</th>\n",
       "      <td>poor soil poor yield many disorder cause veget...</td>\n",
       "      <td>nutrient</td>\n",
       "    </tr>\n",
       "  </tbody>\n",
       "</table>\n",
       "</div>"
      ],
      "text/plain": [
       "                                                Data     Label\n",
       "0  soil complex nutriants micro organisim soil bo...  nutrient\n",
       "1  soil health indicate generate good quality foo...  nutrient\n",
       "2  soil medium plant growth soil good water holdi...  nutrient\n",
       "3  decrease overall plant growth development ulti...  nutrient\n",
       "4  poor soil poor yield many disorder cause veget...  nutrient"
      ]
     },
     "execution_count": 39,
     "metadata": {},
     "output_type": "execute_result"
    }
   ],
   "source": [
    "Labeled_data.head()"
   ]
  },
  {
   "cell_type": "code",
   "execution_count": 40,
   "metadata": {},
   "outputs": [],
   "source": [
    "X=reviews"
   ]
  },
  {
   "cell_type": "code",
   "execution_count": 41,
   "metadata": {},
   "outputs": [
    {
     "data": {
      "text/plain": [
       "(380, 50)"
      ]
     },
     "execution_count": 41,
     "metadata": {},
     "output_type": "execute_result"
    }
   ],
   "source": [
    "vectorizer=CountVectorizer(max_features=50,min_df=3,max_df=0.6)\n",
    "BOW=vectorizer.fit_transform(X).toarray()\n",
    "BOW.shape"
   ]
  },
  {
   "cell_type": "code",
   "execution_count": 42,
   "metadata": {},
   "outputs": [],
   "source": [
    "Tfid=TfidfTransformer()\n",
    "X=Tfid.fit_transform(BOW).toarray()"
   ]
  },
  {
   "cell_type": "code",
   "execution_count": 43,
   "metadata": {},
   "outputs": [
    {
     "data": {
      "text/plain": [
       "array(['climate', 'disease', 'fertilizer', 'harvest', 'irrigation',\n",
       "       'nutrient', 'pest', 'policy', 'precision', 'seed'], dtype='<U10')"
      ]
     },
     "execution_count": 43,
     "metadata": {},
     "output_type": "execute_result"
    }
   ],
   "source": [
    "le =LabelEncoder()\n",
    "y=le.fit(label)\n",
    "le.classes_"
   ]
  },
  {
   "cell_type": "code",
   "execution_count": 44,
   "metadata": {},
   "outputs": [],
   "source": [
    "y=le.fit_transform(label)"
   ]
  },
  {
   "cell_type": "code",
   "execution_count": 45,
   "metadata": {},
   "outputs": [],
   "source": [
    "x_train,x_test,y_train,y_test=train_test_split(X,y,test_size=0.2,random_state=3,stratify=y)"
   ]
  },
  {
   "cell_type": "code",
   "execution_count": 46,
   "metadata": {},
   "outputs": [
    {
     "name": "stdout",
     "output_type": "stream",
     "text": [
      "Accuracy: 78.94736842105263\n",
      "Time_take Train_model: 0.028072834014892578\n"
     ]
    }
   ],
   "source": [
    "\n",
    "start=time.time()\n",
    "model=KNeighborsClassifier(n_neighbors =3).fit(x_train,y_train)\n",
    "end=time.time()\n",
    "scr=model.score(x_test,y_test)*100\n",
    "print(\"Accuracy: {}\\nTime_take Train_model: {}\".format(scr,end-start))\n"
   ]
  },
  {
   "cell_type": "code",
   "execution_count": 47,
   "metadata": {},
   "outputs": [
    {
     "name": "stdout",
     "output_type": "stream",
     "text": [
      "Time_take test_model: 0.00926065444946289\n"
     ]
    }
   ],
   "source": [
    "start=time.time()\n",
    "pre=model.predict(x_test)\n",
    "end=time.time()\n",
    "print(\"Time_take test_model: {}\".format(end-start))\n",
    "expected=y_test"
   ]
  },
  {
   "cell_type": "code",
   "execution_count": 48,
   "metadata": {},
   "outputs": [
    {
     "name": "stdout",
     "output_type": "stream",
     "text": [
      "recall_score 0.7892857142857143\n",
      "precision_score 0.7897222222222222\n",
      "f1_score 0.7836274509803921\n"
     ]
    }
   ],
   "source": [
    "rcall=recall_score(y_test,pre,average='macro')\n",
    "prec=precision_score(y_test,pre,average='macro')\n",
    "f1=f1_score(y_test,pre,average='macro')\n",
    "print(\"recall_score\",rcall)\n",
    "print(\"precision_score\",prec)\n",
    "print(\"f1_score\",f1)"
   ]
  },
  {
   "cell_type": "code",
   "execution_count": null,
   "metadata": {},
   "outputs": [],
   "source": []
  },
  {
   "cell_type": "code",
   "execution_count": 49,
   "metadata": {},
   "outputs": [
    {
     "name": "stdout",
     "output_type": "stream",
     "text": [
      "              precision    recall  f1-score   support\n",
      "\n",
      "           0       0.78      0.88      0.82         8\n",
      "           1       0.83      0.71      0.77         7\n",
      "           2       0.67      0.57      0.62         7\n",
      "           3       0.67      0.75      0.71         8\n",
      "           4       0.88      1.00      0.93         7\n",
      "           5       0.75      0.86      0.80         7\n",
      "           6       0.78      0.88      0.82         8\n",
      "           7       0.75      0.75      0.75         8\n",
      "           8       0.80      0.50      0.62         8\n",
      "           9       1.00      1.00      1.00         8\n",
      "\n",
      "   micro avg       0.79      0.79      0.79        76\n",
      "   macro avg       0.79      0.79      0.78        76\n",
      "weighted avg       0.79      0.79      0.78        76\n",
      "\n"
     ]
    }
   ],
   "source": [
    "cr=classification_report(y_test,pre)\n",
    "print(cr)"
   ]
  },
  {
   "cell_type": "code",
   "execution_count": 50,
   "metadata": {},
   "outputs": [
    {
     "data": {
      "text/plain": [
       "array([[7, 0, 0, 0, 0, 0, 0, 1, 0, 0],\n",
       "       [1, 5, 0, 0, 0, 0, 1, 0, 0, 0],\n",
       "       [0, 0, 4, 1, 0, 1, 1, 0, 0, 0],\n",
       "       [0, 0, 1, 6, 0, 0, 0, 0, 1, 0],\n",
       "       [0, 0, 0, 0, 7, 0, 0, 0, 0, 0],\n",
       "       [1, 0, 0, 0, 0, 6, 0, 0, 0, 0],\n",
       "       [0, 0, 0, 0, 1, 0, 7, 0, 0, 0],\n",
       "       [0, 0, 1, 0, 0, 1, 0, 6, 0, 0],\n",
       "       [0, 1, 0, 2, 0, 0, 0, 1, 4, 0],\n",
       "       [0, 0, 0, 0, 0, 0, 0, 0, 0, 8]], dtype=int64)"
      ]
     },
     "execution_count": 50,
     "metadata": {},
     "output_type": "execute_result"
    }
   ],
   "source": [
    "confusion_matrix(y_test,pre)"
   ]
  },
  {
   "cell_type": "code",
   "execution_count": 66,
   "metadata": {
    "scrolled": true
   },
   "outputs": [
    {
     "data": {
      "image/png": "[encoded data removed]",
      "text/plain": [
       "<Figure size 720x720 with 2 Axes>"
      ]
     },
     "metadata": {},
     "output_type": "display_data"
    }
   ],
   "source": [
    "cm=confusion_matrix(y_test,pre)\n",
    "fig, ax = plt.subplots(figsize=(10,10))         # Sample figsize in inches\n",
    "sns.heatmap(cm, annot=True, linewidths=.5, ax=ax)\n",
    "ax.xaxis.set_ticklabels(labels_)\n",
    "ax.yaxis.set_ticklabels(labels_)\n",
    "fig.savefig(\"CM.png\")"
   ]
  },
  {
   "cell_type": "code",
   "execution_count": 52,
   "metadata": {},
   "outputs": [
    {
     "name": "stdout",
     "output_type": "stream",
     "text": [
      "Accuracy: 78.94736842105263\n",
      "Time_take Train_model: 0.005456686019897461\n"
     ]
    }
   ],
   "source": [
    "\n",
    "start=time.time()\n",
    "model=BernoulliNB().fit(x_train,y_train)\n",
    "end=time.time()\n",
    "scr_=model.score(x_test,y_test)*100\n",
    "print(\"Accuracy: {}\\nTime_take Train_model: {}\".format(scr,end-start))"
   ]
  },
  {
   "cell_type": "code",
   "execution_count": 53,
   "metadata": {},
   "outputs": [
    {
     "data": {
      "image/png": "[encoded data removed]",
      "text/plain": [
       "<Figure size 360x360 with 1 Axes>"
      ]
     },
     "metadata": {},
     "output_type": "display_data"
    }
   ],
   "source": [
    "acuracy=[]\n",
    "acuracy.append((\"KNN\",scr))\n",
    "acuracy.append((\"NB\",scr_))\n",
    "df=pd.DataFrame(acuracy,columns=[\"_\",\"Accuracy\"])\n",
    "sns.set(rc={'figure.figsize':(5,5)})\n",
    "g = sns.barplot(x=\"_\", y=\"Accuracy\",data=df)\n",
    "for i,j in enumerate([scr,scr_]):\n",
    "    g.text(i,j,str(round(j,2)))"
   ]
  },
  {
   "cell_type": "code",
   "execution_count": 54,
   "metadata": {},
   "outputs": [
    {
     "name": "stdout",
     "output_type": "stream",
     "text": [
      "Time_take test_model: 0.001947641372680664\n"
     ]
    }
   ],
   "source": [
    "start=time.time()\n",
    "pre=model.predict(x_test)\n",
    "end=time.time()\n",
    "print(\"Time_take test_model: {}\".format(end-start))\n",
    "expected=y_test"
   ]
  },
  {
   "cell_type": "code",
   "execution_count": 55,
   "metadata": {},
   "outputs": [
    {
     "name": "stdout",
     "output_type": "stream",
     "text": [
      "              precision    recall  f1-score   support\n",
      "\n",
      "           0       1.00      1.00      1.00         8\n",
      "           1       1.00      0.71      0.83         7\n",
      "           2       1.00      0.57      0.73         7\n",
      "           3       0.70      0.88      0.78         8\n",
      "           4       1.00      1.00      1.00         7\n",
      "           5       0.88      1.00      0.93         7\n",
      "           6       0.73      1.00      0.84         8\n",
      "           7       1.00      0.88      0.93         8\n",
      "           8       0.75      0.75      0.75         8\n",
      "           9       1.00      1.00      1.00         8\n",
      "\n",
      "   micro avg       0.88      0.88      0.88        76\n",
      "   macro avg       0.91      0.88      0.88        76\n",
      "weighted avg       0.90      0.88      0.88        76\n",
      "\n"
     ]
    }
   ],
   "source": [
    "cr=classification_report(y_test,pre)\n",
    "print(cr)"
   ]
  },
  {
   "cell_type": "code",
   "execution_count": 56,
   "metadata": {},
   "outputs": [
    {
     "name": "stdout",
     "output_type": "stream",
     "text": [
      "recall_score 0.87971557682084\n",
      "precision_score 0.9052272727272728\n",
      "f1_score 0.87971557682084\n"
     ]
    }
   ],
   "source": [
    "rcall_1=f1_score(y_test,pre,average='macro')\n",
    "prec_1=precision_score(y_test,pre,average='macro')\n",
    "f1_1=f1_score(y_test,pre,average='macro')\n",
    "print(\"recall_score\",rcall_1)\n",
    "print(\"precision_score\",prec_1)\n",
    "print(\"f1_score\",f1_1)"
   ]
  },
  {
   "cell_type": "code",
   "execution_count": 57,
   "metadata": {},
   "outputs": [],
   "source": [
    "def autolabel(rects):\n",
    "    for rect in rects:\n",
    "        height = rect.get_height()\n",
    "        ax.annotate('{}'.format(round(height,2)),\n",
    "                    xy=(rect.get_x() + rect.get_width() / 2, height),\n",
    "                    xytext=(0, 3),  # 3 points vertical offset\n",
    "                    textcoords=\"offset points\",\n",
    "                    ha='center', va='bottom')"
   ]
  },
  {
   "cell_type": "code",
   "execution_count": 58,
   "metadata": {},
   "outputs": [
    {
     "name": "stdout",
     "output_type": "stream",
     "text": [
      "[0.7894736842105263, 0.8815789473684209]\n"
     ]
    },
    {
     "data": {
      "image/png": "[encoded data removed]",
      "text/plain": [
       "<Figure size 432x432 with 1 Axes>"
      ]
     },
     "metadata": {},
     "output_type": "display_data"
    }
   ],
   "source": [
    "acuracy=[]\n",
    "recal_s=[rcall,rcall_1]\n",
    "prec_s=[prec,prec_1]\n",
    "f1_s=[f1,f1_1]\n",
    "acuracy=[scr/100,scr_/100]\n",
    "print(acuracy)\n",
    "labels1=[\"KNN\",\"NB\"]\n",
    "x = np.arange(len(labels1))\n",
    "fig, ax = plt.subplots(figsize=(6,6))\n",
    "width = 0.35\n",
    "b1=ax.bar(x,f1_s,width=0.2,label='F1_score')\n",
    "b2=ax.bar(x - width/2,prec_s,width=0.2,label='Precision_score')\n",
    "b3=ax.bar(x + width/2,recal_s,width=0.2,label='Recall_score')\n",
    "b4=ax.bar(x + width/2+0.15,acuracy,width=0.2,label='Accuracy')\n",
    "ax.set_ylabel('Scores')\n",
    "ax.set_title('Scores by group and gender')\n",
    "ax.set_xticks(x)\n",
    "ax.set_xticklabels(labels1)\n",
    "ax.legend()\n",
    "autolabel(b1)\n",
    "autolabel(b2)\n",
    "autolabel(b3)\n",
    "autolabel(b4)\n",
    "fig.tight_layout()\n",
    "plt.show()"
   ]
  },
  {
   "cell_type": "code",
   "execution_count": null,
   "metadata": {},
   "outputs": [],
   "source": []
  },
  {
   "cell_type": "code",
   "execution_count": 59,
   "metadata": {},
   "outputs": [
    {
     "data": {
      "text/plain": [
       "[Text(0, 0.5, 'nutrient'),\n",
       " Text(0, 1.5, 'seed'),\n",
       " Text(0, 2.5, 'pest'),\n",
       " Text(0, 3.5, 'disease'),\n",
       " Text(0, 4.5, 'irrigation'),\n",
       " Text(0, 5.5, 'climate'),\n",
       " Text(0, 6.5, 'precision'),\n",
       " Text(0, 7.5, 'fertilizer'),\n",
       " Text(0, 8.5, 'harvest'),\n",
       " Text(0, 9.5, 'policy')]"
      ]
     },
     "execution_count": 59,
     "metadata": {},
     "output_type": "execute_result"
    },
    {
     "data": {
      "image/png": "[encoded data removed]",
      "text/plain": [
       "<Figure size 360x360 with 2 Axes>"
      ]
     },
     "metadata": {},
     "output_type": "display_data"
    }
   ],
   "source": [
    "cm=confusion_matrix(y_test,pre)\n",
    "ax=plt.subplot()\n",
    "sns.heatmap(cm,annot=True,ax=ax)\n",
    "ax.xaxis.set_ticklabels(labels_)\n",
    "ax.yaxis.set_ticklabels(labels_)"
   ]
  },
  {
   "cell_type": "code",
   "execution_count": 60,
   "metadata": {},
   "outputs": [
    {
     "name": "stdout",
     "output_type": "stream",
     "text": [
      "(10, 2115)\n"
     ]
    }
   ],
   "source": [
    "#from sklearn.feature_extraction.text import TfidfVectorizer\n",
    "tfidf_vectorizer = TfidfVectorizer()\n",
    "tfidf_matrix = tfidf_vectorizer.fit_transform(corpus)\n",
    "print (tfidf_matrix.shape)\n"
   ]
  },
  {
   "cell_type": "code",
   "execution_count": 61,
   "metadata": {},
   "outputs": [],
   "source": [
    "list=[]\n",
    "for i in range(10):\n",
    "    c=tfidf_matrix.toarray().tolist()\n",
    "    c.remove(c[i])\n",
    "    list.append(cosine_similarity(tfidf_matrix[i],c))"
   ]
  },
  {
   "cell_type": "code",
   "execution_count": 62,
   "metadata": {},
   "outputs": [],
   "source": [
    "data=[]\n",
    "for i in range(10):\n",
    "    data.append(list[i].tolist()[0])"
   ]
  },
  {
   "cell_type": "code",
   "execution_count": 63,
   "metadata": {},
   "outputs": [
    {
     "data": {
      "image/png": "[encoded data removed]",
      "text/plain": [
       "<Figure size 360x360 with 4 Axes>"
      ]
     },
     "metadata": {},
     "output_type": "display_data"
    }
   ],
   "source": [
    "plt.subplot(321)\n",
    "plt.suptitle(\"Document Comparison\")\n",
    "plt.Figure(figsize=(10,10))\n",
    "plt.ylim((0,1))\n",
    "plt.ylabel(\"Comparison ratio\")\n",
    "plt.xlabel(\"Doc No.\")\n",
    "plt.title(\"Doc 1\")\n",
    "plt.bar(range(9),np.array(data[0]))\n",
    "plt.subplot(322)\n",
    "plt.Figure(figsize=(10,10))\n",
    "plt.ylim((0,1))\n",
    "plt.ylabel(\"Comparison ratio\")\n",
    "plt.xlabel(\"Doc No.\")\n",
    "plt.title(\"Doc 2\")\n",
    "plt.scatter(range(9),np.array(data[1]))\n",
    "plt.subplot(323)\n",
    "plt.Figure(figsize=(10,10))\n",
    "plt.ylim((0,1))\n",
    "plt.ylabel(\"Comparison ratio\")\n",
    "plt.xlabel(\"Doc No.\")\n",
    "plt.title(\"Doc 2\")\n",
    "plt.scatter(range(9),np.array(data[2]))\n",
    "plt.subplot(324)\n",
    "plt.Figure(figsize=(10,10))\n",
    "plt.ylim((0,1))\n",
    "plt.ylabel(\"Comparison ratio\")\n",
    "plt.xlabel(\"Doc No.\")\n",
    "plt.title(\"Doc 3\")\n",
    "plt.scatter(range(9),np.array(data[3]))\n",
    "plt.show()\n"
   ]
  },
  {
   "cell_type": "code",
   "execution_count": 64,
   "metadata": {},
   "outputs": [
    {
     "data": {
      "image/png": "[encoded data removed]",
      "text/plain": [
       "<Figure size 360x360 with 4 Axes>"
      ]
     },
     "metadata": {},
     "output_type": "display_data"
    }
   ],
   "source": [
    "plt.subplot(321)\n",
    "plt.suptitle(\"Document Comparison\")\n",
    "plt.Figure(figsize=(10,10))\n",
    "plt.ylim((0,1))\n",
    "plt.ylabel(\"Comparison ratio\")\n",
    "plt.xlabel(\"Doc No.\")\n",
    "plt.title(\"Doc 5\")\n",
    "plt.scatter(range(9),np.array(data[4]))\n",
    "plt.subplot(322)\n",
    "plt.Figure(figsize=(10,10))\n",
    "plt.ylim((0,1))\n",
    "plt.ylabel(\"Comparison ratio\")\n",
    "plt.xlabel(\"Doc No.\")\n",
    "plt.title(\"Doc 6\")\n",
    "plt.scatter(range(9),np.array(data[5]))\n",
    "plt.subplot(323)\n",
    "plt.Figure(figsize=(10,10))\n",
    "plt.ylim((0,1))\n",
    "plt.ylabel(\"Comparison ratio\")\n",
    "plt.xlabel(\"Doc No.\")\n",
    "plt.title(\"Doc 7\")\n",
    "plt.scatter(range(9),np.array(data[6]))\n",
    "for i,j in enumerate(data[6]):\n",
    "    plt.text(i,j,str(round(j,2)))\n",
    "plt.subplot(324)\n",
    "plt.Figure(figsize=(10,10))\n",
    "plt.ylim((0,1))\n",
    "plt.ylabel(\"Comparison ratio\")\n",
    "plt.xlabel(\"Doc No.\")\n",
    "plt.title(\"Doc 8\")\n",
    "plt.scatter(range(9),np.array(data[7]))\n",
    "plt.show()"
   ]
  },
  {
   "cell_type": "code",
   "execution_count": null,
   "metadata": {},
   "outputs": [],
   "source": []
  },
  {
   "cell_type": "code",
   "execution_count": null,
   "metadata": {},
   "outputs": [],
   "source": []
  },
  {
   "cell_type": "code",
   "execution_count": null,
   "metadata": {},
   "outputs": [],
   "source": []
  },
  {
   "cell_type": "code",
   "execution_count": null,
   "metadata": {},
   "outputs": [],
   "source": []
  },
  {
   "cell_type": "code",
   "execution_count": null,
   "metadata": {},
   "outputs": [],
   "source": []
  },
  {
   "cell_type": "code",
   "execution_count": null,
   "metadata": {},
   "outputs": [],
   "source": []
  },
  {
   "cell_type": "code",
   "execution_count": null,
   "metadata": {},
   "outputs": [],
   "source": []
  },
  {
   "cell_type": "code",
   "execution_count": null,
   "metadata": {},
   "outputs": [],
   "source": []
  },
  {
   "cell_type": "markdown",
   "metadata": {},
   "source": [
    "##### "
   ]
  }
 ],
 "metadata": {
  "kernelspec": {
   "display_name": "Python 3",
   "language": "python",
   "name": "python3"
  },
  "language_info": {
   "codemirror_mode": {
    "name": "ipython",
    "version": 3
   },
   "file_extension": ".py",
   "mimetype": "text/x-python",
   "name": "python",
   "nbconvert_exporter": "python",
   "pygments_lexer": "ipython3",
   "version": "3.7.3"
  }
 },
 "nbformat": 4,
 "nbformat_minor": 2
}
